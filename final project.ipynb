{
    "metadata": {
        "kernelspec": {
            "name": "python2-spark21", 
            "display_name": "Python 2 with Spark 2.1", 
            "language": "python"
        }, 
        "language_info": {
            "codemirror_mode": {
                "version": 2, 
                "name": "ipython"
            }, 
            "version": "2.7.11", 
            "mimetype": "text/x-python", 
            "pygments_lexer": "ipython2", 
            "file_extension": ".py", 
            "name": "python", 
            "nbconvert_exporter": "python"
        }
    }, 
    "cells": [
        {
            "metadata": {}, 
            "cell_type": "markdown", 
            "source": "# Analysis on Attrition in IBM"
        }, 
        {
            "metadata": {}, 
            "cell_type": "markdown", 
            "source": "Employee Attrition is one of the most important factors that affect the company in the market in terms of company reputation, company budget and market value. If an employee decide to leave the company, the respective company has to invest hiring new people and wasting time.\n\nIn this project we try to classify to predict what cause an employee to leave the company. Getting an idea about the most important factors that lead to employee attrition will compel a company to improve the concerned parameter by benchmarking or any other process.\nWe also try to find out the performance of the classifier models ; so we have a script that can be sold to a company for a price to improve their Attrition rate. They can use the same script to benchmark performance over time.\nThis dataset is a fictional dataset provided by IBM which i got from Kaggle.\n\nWe will Use Data science experience desktop for this project"
        }, 
        {
            "metadata": {}, 
            "cell_type": "markdown", 
            "source": "# Load Dataset"
        }, 
        {
            "metadata": {
                "collapsed": false
            }, 
            "cell_type": "code", 
            "outputs": [
                {
                    "metadata": {}, 
                    "output_type": "execute_result", 
                    "execution_count": 1, 
                    "data": {
                        "text/html": "<div>\n<table border=\"1\" class=\"dataframe\">\n  <thead>\n    <tr style=\"text-align: right;\">\n      <th></th>\n      <th>\ufeffAge</th>\n      <th>Attrition</th>\n      <th>BusinessTravel</th>\n      <th>DailyRate</th>\n      <th>Department</th>\n      <th>DistanceFromHome</th>\n      <th>Education</th>\n      <th>EducationField</th>\n      <th>EmployeeCount</th>\n      <th>EmployeeNumber</th>\n      <th>...</th>\n      <th>RelationshipSatisfaction</th>\n      <th>StandardHours</th>\n      <th>StockOptionLevel</th>\n      <th>TotalWorkingYears</th>\n      <th>TrainingTimesLastYear</th>\n      <th>WorkLifeBalance</th>\n      <th>YearsAtCompany</th>\n      <th>YearsInCurrentRole</th>\n      <th>YearsSinceLastPromotion</th>\n      <th>YearsWithCurrManager</th>\n    </tr>\n  </thead>\n  <tbody>\n    <tr>\n      <th>0</th>\n      <td>41</td>\n      <td>Yes</td>\n      <td>Travel_Rarely</td>\n      <td>1102</td>\n      <td>Sales</td>\n      <td>1</td>\n      <td>2</td>\n      <td>Life Sciences</td>\n      <td>1</td>\n      <td>1</td>\n      <td>...</td>\n      <td>1</td>\n      <td>80</td>\n      <td>0</td>\n      <td>8</td>\n      <td>0</td>\n      <td>1</td>\n      <td>6</td>\n      <td>4</td>\n      <td>0</td>\n      <td>5</td>\n    </tr>\n    <tr>\n      <th>1</th>\n      <td>49</td>\n      <td>No</td>\n      <td>Travel_Frequently</td>\n      <td>279</td>\n      <td>Research &amp; Development</td>\n      <td>8</td>\n      <td>1</td>\n      <td>Life Sciences</td>\n      <td>1</td>\n      <td>2</td>\n      <td>...</td>\n      <td>4</td>\n      <td>80</td>\n      <td>1</td>\n      <td>10</td>\n      <td>3</td>\n      <td>3</td>\n      <td>10</td>\n      <td>7</td>\n      <td>1</td>\n      <td>7</td>\n    </tr>\n    <tr>\n      <th>2</th>\n      <td>37</td>\n      <td>Yes</td>\n      <td>Travel_Rarely</td>\n      <td>1373</td>\n      <td>Research &amp; Development</td>\n      <td>2</td>\n      <td>2</td>\n      <td>Other</td>\n      <td>1</td>\n      <td>4</td>\n      <td>...</td>\n      <td>2</td>\n      <td>80</td>\n      <td>0</td>\n      <td>7</td>\n      <td>3</td>\n      <td>3</td>\n      <td>0</td>\n      <td>0</td>\n      <td>0</td>\n      <td>0</td>\n    </tr>\n    <tr>\n      <th>3</th>\n      <td>33</td>\n      <td>No</td>\n      <td>Travel_Frequently</td>\n      <td>1392</td>\n      <td>Research &amp; Development</td>\n      <td>3</td>\n      <td>4</td>\n      <td>Life Sciences</td>\n      <td>1</td>\n      <td>5</td>\n      <td>...</td>\n      <td>3</td>\n      <td>80</td>\n      <td>0</td>\n      <td>8</td>\n      <td>3</td>\n      <td>3</td>\n      <td>8</td>\n      <td>7</td>\n      <td>3</td>\n      <td>0</td>\n    </tr>\n    <tr>\n      <th>4</th>\n      <td>27</td>\n      <td>No</td>\n      <td>Travel_Rarely</td>\n      <td>591</td>\n      <td>Research &amp; Development</td>\n      <td>2</td>\n      <td>1</td>\n      <td>Medical</td>\n      <td>1</td>\n      <td>7</td>\n      <td>...</td>\n      <td>4</td>\n      <td>80</td>\n      <td>1</td>\n      <td>6</td>\n      <td>3</td>\n      <td>3</td>\n      <td>2</td>\n      <td>2</td>\n      <td>2</td>\n      <td>2</td>\n    </tr>\n  </tbody>\n</table>\n<p>5 rows \u00d7 35 columns</p>\n</div>", 
                        "text/plain": "   \ufeffAge Attrition     BusinessTravel  DailyRate              Department  \\\n0    41       Yes      Travel_Rarely       1102                   Sales   \n1    49        No  Travel_Frequently        279  Research & Development   \n2    37       Yes      Travel_Rarely       1373  Research & Development   \n3    33        No  Travel_Frequently       1392  Research & Development   \n4    27        No      Travel_Rarely        591  Research & Development   \n\n   DistanceFromHome  Education EducationField  EmployeeCount  EmployeeNumber  \\\n0                 1          2  Life Sciences              1               1   \n1                 8          1  Life Sciences              1               2   \n2                 2          2          Other              1               4   \n3                 3          4  Life Sciences              1               5   \n4                 2          1        Medical              1               7   \n\n           ...           RelationshipSatisfaction StandardHours  \\\n0          ...                                  1            80   \n1          ...                                  4            80   \n2          ...                                  2            80   \n3          ...                                  3            80   \n4          ...                                  4            80   \n\n   StockOptionLevel  TotalWorkingYears  TrainingTimesLastYear WorkLifeBalance  \\\n0                 0                  8                      0               1   \n1                 1                 10                      3               3   \n2                 0                  7                      3               3   \n3                 0                  8                      3               3   \n4                 1                  6                      3               3   \n\n   YearsAtCompany YearsInCurrentRole  YearsSinceLastPromotion  \\\n0               6                  4                        0   \n1              10                  7                        1   \n2               0                  0                        0   \n3               8                  7                        3   \n4               2                  2                        2   \n\n   YearsWithCurrManager  \n0                     5  \n1                     7  \n2                     0  \n3                     0  \n4                     2  \n\n[5 rows x 35 columns]"
                    }
                }
            ], 
            "execution_count": 1, 
            "source": "# The code was removed by DSX for sharing."
        }, 
        {
            "metadata": {}, 
            "cell_type": "markdown", 
            "source": "# Employee Attrition in IBM"
        }, 
        {
            "metadata": {
                "collapsed": false
            }, 
            "cell_type": "code", 
            "outputs": [
                {
                    "metadata": {}, 
                    "output_type": "execute_result", 
                    "execution_count": 2, 
                    "data": {
                        "text/plain": "\ufeffAge                         int64\nAttrition                   object\nBusinessTravel              object\nDailyRate                    int64\nDepartment                  object\nDistanceFromHome             int64\nEducation                    int64\nEducationField              object\nEmployeeCount                int64\nEmployeeNumber               int64\nEnvironmentSatisfaction      int64\nGender                      object\nHourlyRate                   int64\nJobInvolvement               int64\nJobLevel                     int64\nJobRole                     object\nJobSatisfaction              int64\nMaritalStatus               object\nMonthlyIncome                int64\nMonthlyRate                  int64\nNumCompaniesWorked           int64\nOver18                      object\nOverTime                    object\nPercentSalaryHike            int64\nPerformanceRating            int64\nRelationshipSatisfaction     int64\nStandardHours                int64\nStockOptionLevel             int64\nTotalWorkingYears            int64\nTrainingTimesLastYear        int64\nWorkLifeBalance              int64\nYearsAtCompany               int64\nYearsInCurrentRole           int64\nYearsSinceLastPromotion      int64\nYearsWithCurrManager         int64\ndtype: object"
                    }
                }
            ], 
            "execution_count": 2, 
            "source": "attrition.dtypes"
        }, 
        {
            "metadata": {}, 
            "cell_type": "markdown", 
            "source": "All the features represented by columns are self expanatory"
        }, 
        {
            "metadata": {
                "collapsed": false
            }, 
            "cell_type": "code", 
            "outputs": [
                {
                    "metadata": {}, 
                    "output_type": "display_data", 
                    "data": {
                        "text/html": "<script>requirejs.config({paths: { 'plotly': ['https://cdn.plot.ly/plotly-latest.min']},});if(!window.Plotly) {{require(['plotly'],function(plotly) {window.Plotly=plotly;});}}</script>", 
                        "text/vnd.plotly.v1+html": "<script>requirejs.config({paths: { 'plotly': ['https://cdn.plot.ly/plotly-latest.min']},});if(!window.Plotly) {{require(['plotly'],function(plotly) {window.Plotly=plotly;});}}</script>"
                    }
                }
            ], 
            "execution_count": 55, 
            "source": "import numpy as np # linear algebra\nimport pandas as pd # data processing, CSV file I/O (e.g. pd.read_csv)\nimport seaborn as sns\nimport matplotlib.pyplot as plt\n%matplotlib inline\n\n# Import statements required for Plotly \nimport plotly.offline as py\npy.init_notebook_mode(connected=True)\nimport plotly.graph_objs as go\nimport plotly.tools as tls\n\n# Import and suppress warnings\nimport warnings\nwarnings.filterwarnings('ignore')"
        }, 
        {
            "metadata": {}, 
            "cell_type": "markdown", 
            "source": "## Mapping of Categorical Features To Numerical Features"
        }, 
        {
            "metadata": {
                "collapsed": false
            }, 
            "cell_type": "code", 
            "outputs": [
                {
                    "metadata": {}, 
                    "output_type": "execute_result", 
                    "execution_count": 56, 
                    "data": {
                        "text/plain": "\ufeffAge                         int64\nAttrition                   object\nBusinessTravel              object\nDailyRate                    int64\nDepartment                  object\nDistanceFromHome             int64\nEducation                    int64\nEducationField              object\nEmployeeCount                int64\nEmployeeNumber               int64\nEnvironmentSatisfaction      int64\nGender                      object\nHourlyRate                   int64\nJobInvolvement               int64\nJobLevel                     int64\nJobRole                     object\nJobSatisfaction              int64\nMaritalStatus               object\nMonthlyIncome                int64\nMonthlyRate                  int64\nNumCompaniesWorked           int64\nOver18                      object\nOverTime                    object\nPercentSalaryHike            int64\nPerformanceRating            int64\nRelationshipSatisfaction     int64\nStandardHours                int64\nStockOptionLevel             int64\nTotalWorkingYears            int64\nTrainingTimesLastYear        int64\nWorkLifeBalance              int64\nYearsAtCompany               int64\nYearsInCurrentRole           int64\nYearsSinceLastPromotion      int64\nYearsWithCurrManager         int64\nMaritalStatus_numerical      int64\nOverTime_numerical           int64\nGender_numerical             int64\nBusinessTravel_numerical     int64\nDepartment_numerical         int64\nAttrition_numerical          int64\ndtype: object"
                    }
                }
            ], 
            "execution_count": 56, 
            "source": "# Define a dictionary for the target mapping\ntarget_map = {'Yes':1, 'No':0}\ntarget_map1 = {'Single':0, 'Married':1, 'Divorced':2}\ntarget_map2 = {'Male':0, 'Female':1}\ntarget_map3 = {'Non-Travel':0, 'Travel_Rarely':1, 'Travel_Frequently':2}\ntarget_map4 = {'Sales':0, 'Research & Development':1, 'Human Resources':2}\n\n# Use the pandas apply method to numerically encode our attrition target variable\n#attrition[\"Attrition_numerical\"] = attrition[\"Attrition\"].apply(lambda x: target_map[x])\nattrition[\"MaritalStatus_numerical\"] = attrition[\"MaritalStatus\"].apply(lambda x: target_map1[x])\nattrition[\"OverTime_numerical\"] = attrition[\"OverTime\"].apply(lambda x: target_map[x])\nattrition[\"Gender_numerical\"] = attrition[\"Gender\"].apply(lambda x: target_map2[x])\nattrition[\"BusinessTravel_numerical\"] = attrition[\"BusinessTravel\"].apply(lambda x: target_map3[x])\nattrition[\"Department_numerical\"] = attrition[\"Department\"].apply(lambda x: target_map4[x])\nattrition[\"Attrition_numerical\"] = attrition[\"Attrition\"].apply(lambda x: target_map[x])\n#del attrition[\"Attrition\"]\nattrition.dtypes"
        }, 
        {
            "metadata": {}, 
            "cell_type": "markdown", 
            "source": "## Dividing the Dataset into Numerical and Categorical Datasets"
        }, 
        {
            "metadata": {
                "collapsed": false
            }, 
            "cell_type": "code", 
            "outputs": [
                {
                    "metadata": {}, 
                    "output_type": "execute_result", 
                    "execution_count": 57, 
                    "data": {
                        "text/plain": "['object', 'int64']"
                    }
                }
            ], 
            "execution_count": 57, 
            "source": "data=attrition.copy()\ntarget = \"Attrition\"\nfeature_by_dtype = {}\nfor c in data.columns:\n    \n    if c == target: continue\n    \n    data_type = str(data[c].dtype)\n    \n    if data_type not in feature_by_dtype.keys():\n         feature_by_dtype[data_type] = [c]\n    else:\n        feature_by_dtype[data_type].append(c)\n\nfeature_by_dtype\nfeature_by_dtype.keys()"
        }, 
        {
            "metadata": {
                "collapsed": false
            }, 
            "cell_type": "code", 
            "outputs": [
                {
                    "metadata": {}, 
                    "output_type": "execute_result", 
                    "execution_count": 5, 
                    "data": {
                        "text/html": "<div>\n<table border=\"1\" class=\"dataframe\">\n  <thead>\n    <tr style=\"text-align: right;\">\n      <th></th>\n      <th>count</th>\n      <th>mean</th>\n      <th>std</th>\n      <th>min</th>\n      <th>25%</th>\n      <th>50%</th>\n      <th>75%</th>\n      <th>max</th>\n    </tr>\n  </thead>\n  <tbody>\n    <tr>\n      <th>\ufeffAge</th>\n      <td>1470</td>\n      <td>36.923810</td>\n      <td>9.135373</td>\n      <td>18</td>\n      <td>30.00</td>\n      <td>36.0</td>\n      <td>43.00</td>\n      <td>60</td>\n    </tr>\n    <tr>\n      <th>DailyRate</th>\n      <td>1470</td>\n      <td>802.485714</td>\n      <td>403.509100</td>\n      <td>102</td>\n      <td>465.00</td>\n      <td>802.0</td>\n      <td>1157.00</td>\n      <td>1499</td>\n    </tr>\n    <tr>\n      <th>DistanceFromHome</th>\n      <td>1470</td>\n      <td>9.192517</td>\n      <td>8.106864</td>\n      <td>1</td>\n      <td>2.00</td>\n      <td>7.0</td>\n      <td>14.00</td>\n      <td>29</td>\n    </tr>\n    <tr>\n      <th>Education</th>\n      <td>1470</td>\n      <td>2.912925</td>\n      <td>1.024165</td>\n      <td>1</td>\n      <td>2.00</td>\n      <td>3.0</td>\n      <td>4.00</td>\n      <td>5</td>\n    </tr>\n    <tr>\n      <th>EmployeeCount</th>\n      <td>1470</td>\n      <td>1.000000</td>\n      <td>0.000000</td>\n      <td>1</td>\n      <td>1.00</td>\n      <td>1.0</td>\n      <td>1.00</td>\n      <td>1</td>\n    </tr>\n    <tr>\n      <th>EmployeeNumber</th>\n      <td>1470</td>\n      <td>1024.865306</td>\n      <td>602.024335</td>\n      <td>1</td>\n      <td>491.25</td>\n      <td>1020.5</td>\n      <td>1555.75</td>\n      <td>2068</td>\n    </tr>\n    <tr>\n      <th>EnvironmentSatisfaction</th>\n      <td>1470</td>\n      <td>2.721769</td>\n      <td>1.093082</td>\n      <td>1</td>\n      <td>2.00</td>\n      <td>3.0</td>\n      <td>4.00</td>\n      <td>4</td>\n    </tr>\n    <tr>\n      <th>HourlyRate</th>\n      <td>1470</td>\n      <td>65.891156</td>\n      <td>20.329428</td>\n      <td>30</td>\n      <td>48.00</td>\n      <td>66.0</td>\n      <td>83.75</td>\n      <td>100</td>\n    </tr>\n    <tr>\n      <th>JobInvolvement</th>\n      <td>1470</td>\n      <td>2.729932</td>\n      <td>0.711561</td>\n      <td>1</td>\n      <td>2.00</td>\n      <td>3.0</td>\n      <td>3.00</td>\n      <td>4</td>\n    </tr>\n    <tr>\n      <th>JobLevel</th>\n      <td>1470</td>\n      <td>2.063946</td>\n      <td>1.106940</td>\n      <td>1</td>\n      <td>1.00</td>\n      <td>2.0</td>\n      <td>3.00</td>\n      <td>5</td>\n    </tr>\n    <tr>\n      <th>JobSatisfaction</th>\n      <td>1470</td>\n      <td>2.728571</td>\n      <td>1.102846</td>\n      <td>1</td>\n      <td>2.00</td>\n      <td>3.0</td>\n      <td>4.00</td>\n      <td>4</td>\n    </tr>\n    <tr>\n      <th>MonthlyIncome</th>\n      <td>1470</td>\n      <td>6502.931293</td>\n      <td>4707.956783</td>\n      <td>1009</td>\n      <td>2911.00</td>\n      <td>4919.0</td>\n      <td>8379.00</td>\n      <td>19999</td>\n    </tr>\n    <tr>\n      <th>MonthlyRate</th>\n      <td>1470</td>\n      <td>14313.103401</td>\n      <td>7117.786044</td>\n      <td>2094</td>\n      <td>8047.00</td>\n      <td>14235.5</td>\n      <td>20461.50</td>\n      <td>26999</td>\n    </tr>\n    <tr>\n      <th>NumCompaniesWorked</th>\n      <td>1470</td>\n      <td>2.693197</td>\n      <td>2.498009</td>\n      <td>0</td>\n      <td>1.00</td>\n      <td>2.0</td>\n      <td>4.00</td>\n      <td>9</td>\n    </tr>\n    <tr>\n      <th>PercentSalaryHike</th>\n      <td>1470</td>\n      <td>15.209524</td>\n      <td>3.659938</td>\n      <td>11</td>\n      <td>12.00</td>\n      <td>14.0</td>\n      <td>18.00</td>\n      <td>25</td>\n    </tr>\n    <tr>\n      <th>PerformanceRating</th>\n      <td>1470</td>\n      <td>3.153741</td>\n      <td>0.360824</td>\n      <td>3</td>\n      <td>3.00</td>\n      <td>3.0</td>\n      <td>3.00</td>\n      <td>4</td>\n    </tr>\n    <tr>\n      <th>RelationshipSatisfaction</th>\n      <td>1470</td>\n      <td>2.712245</td>\n      <td>1.081209</td>\n      <td>1</td>\n      <td>2.00</td>\n      <td>3.0</td>\n      <td>4.00</td>\n      <td>4</td>\n    </tr>\n    <tr>\n      <th>StandardHours</th>\n      <td>1470</td>\n      <td>80.000000</td>\n      <td>0.000000</td>\n      <td>80</td>\n      <td>80.00</td>\n      <td>80.0</td>\n      <td>80.00</td>\n      <td>80</td>\n    </tr>\n    <tr>\n      <th>StockOptionLevel</th>\n      <td>1470</td>\n      <td>0.793878</td>\n      <td>0.852077</td>\n      <td>0</td>\n      <td>0.00</td>\n      <td>1.0</td>\n      <td>1.00</td>\n      <td>3</td>\n    </tr>\n    <tr>\n      <th>TotalWorkingYears</th>\n      <td>1470</td>\n      <td>11.279592</td>\n      <td>7.780782</td>\n      <td>0</td>\n      <td>6.00</td>\n      <td>10.0</td>\n      <td>15.00</td>\n      <td>40</td>\n    </tr>\n    <tr>\n      <th>TrainingTimesLastYear</th>\n      <td>1470</td>\n      <td>2.799320</td>\n      <td>1.289271</td>\n      <td>0</td>\n      <td>2.00</td>\n      <td>3.0</td>\n      <td>3.00</td>\n      <td>6</td>\n    </tr>\n    <tr>\n      <th>WorkLifeBalance</th>\n      <td>1470</td>\n      <td>2.761224</td>\n      <td>0.706476</td>\n      <td>1</td>\n      <td>2.00</td>\n      <td>3.0</td>\n      <td>3.00</td>\n      <td>4</td>\n    </tr>\n    <tr>\n      <th>YearsAtCompany</th>\n      <td>1470</td>\n      <td>7.008163</td>\n      <td>6.126525</td>\n      <td>0</td>\n      <td>3.00</td>\n      <td>5.0</td>\n      <td>9.00</td>\n      <td>40</td>\n    </tr>\n    <tr>\n      <th>YearsInCurrentRole</th>\n      <td>1470</td>\n      <td>4.229252</td>\n      <td>3.623137</td>\n      <td>0</td>\n      <td>2.00</td>\n      <td>3.0</td>\n      <td>7.00</td>\n      <td>18</td>\n    </tr>\n    <tr>\n      <th>YearsSinceLastPromotion</th>\n      <td>1470</td>\n      <td>2.187755</td>\n      <td>3.222430</td>\n      <td>0</td>\n      <td>0.00</td>\n      <td>1.0</td>\n      <td>3.00</td>\n      <td>15</td>\n    </tr>\n    <tr>\n      <th>YearsWithCurrManager</th>\n      <td>1470</td>\n      <td>4.123129</td>\n      <td>3.568136</td>\n      <td>0</td>\n      <td>2.00</td>\n      <td>3.0</td>\n      <td>7.00</td>\n      <td>17</td>\n    </tr>\n  </tbody>\n</table>\n</div>", 
                        "text/plain": "                          count          mean          std   min      25%  \\\n\ufeffAge                       1470     36.923810     9.135373    18    30.00   \nDailyRate                  1470    802.485714   403.509100   102   465.00   \nDistanceFromHome           1470      9.192517     8.106864     1     2.00   \nEducation                  1470      2.912925     1.024165     1     2.00   \nEmployeeCount              1470      1.000000     0.000000     1     1.00   \nEmployeeNumber             1470   1024.865306   602.024335     1   491.25   \nEnvironmentSatisfaction    1470      2.721769     1.093082     1     2.00   \nHourlyRate                 1470     65.891156    20.329428    30    48.00   \nJobInvolvement             1470      2.729932     0.711561     1     2.00   \nJobLevel                   1470      2.063946     1.106940     1     1.00   \nJobSatisfaction            1470      2.728571     1.102846     1     2.00   \nMonthlyIncome              1470   6502.931293  4707.956783  1009  2911.00   \nMonthlyRate                1470  14313.103401  7117.786044  2094  8047.00   \nNumCompaniesWorked         1470      2.693197     2.498009     0     1.00   \nPercentSalaryHike          1470     15.209524     3.659938    11    12.00   \nPerformanceRating          1470      3.153741     0.360824     3     3.00   \nRelationshipSatisfaction   1470      2.712245     1.081209     1     2.00   \nStandardHours              1470     80.000000     0.000000    80    80.00   \nStockOptionLevel           1470      0.793878     0.852077     0     0.00   \nTotalWorkingYears          1470     11.279592     7.780782     0     6.00   \nTrainingTimesLastYear      1470      2.799320     1.289271     0     2.00   \nWorkLifeBalance            1470      2.761224     0.706476     1     2.00   \nYearsAtCompany             1470      7.008163     6.126525     0     3.00   \nYearsInCurrentRole         1470      4.229252     3.623137     0     2.00   \nYearsSinceLastPromotion    1470      2.187755     3.222430     0     0.00   \nYearsWithCurrManager       1470      4.123129     3.568136     0     2.00   \n\n                              50%       75%    max  \n\ufeffAge                         36.0     43.00     60  \nDailyRate                   802.0   1157.00   1499  \nDistanceFromHome              7.0     14.00     29  \nEducation                     3.0      4.00      5  \nEmployeeCount                 1.0      1.00      1  \nEmployeeNumber             1020.5   1555.75   2068  \nEnvironmentSatisfaction       3.0      4.00      4  \nHourlyRate                   66.0     83.75    100  \nJobInvolvement                3.0      3.00      4  \nJobLevel                      2.0      3.00      5  \nJobSatisfaction               3.0      4.00      4  \nMonthlyIncome              4919.0   8379.00  19999  \nMonthlyRate               14235.5  20461.50  26999  \nNumCompaniesWorked            2.0      4.00      9  \nPercentSalaryHike            14.0     18.00     25  \nPerformanceRating             3.0      3.00      4  \nRelationshipSatisfaction      3.0      4.00      4  \nStandardHours                80.0     80.00     80  \nStockOptionLevel              1.0      1.00      3  \nTotalWorkingYears            10.0     15.00     40  \nTrainingTimesLastYear         3.0      3.00      6  \nWorkLifeBalance               3.0      3.00      4  \nYearsAtCompany                5.0      9.00     40  \nYearsInCurrentRole            3.0      7.00     18  \nYearsSinceLastPromotion       1.0      3.00     15  \nYearsWithCurrManager          3.0      7.00     17  "
                    }
                }
            ], 
            "execution_count": 5, 
            "source": "attrition.describe().T"
        }, 
        {
            "metadata": {}, 
            "cell_type": "markdown", 
            "source": "We will remove all the redundant colums as done before as all of the rows in columns [\"Over18\", \"StandardHours\", \"EmployeeCount\"] have no distinct values. Also Employee count does not matter in this data as it is a figure from 1 :1500"
        }, 
        {
            "metadata": {
                "collapsed": false
            }, 
            "cell_type": "code", 
            "outputs": [
                {
                    "metadata": {}, 
                    "output_type": "execute_result", 
                    "execution_count": 58, 
                    "data": {
                        "text/html": "<div>\n<table border=\"1\" class=\"dataframe\">\n  <thead>\n    <tr style=\"text-align: right;\">\n      <th></th>\n      <th>\ufeffAge</th>\n      <th>DailyRate</th>\n      <th>DistanceFromHome</th>\n      <th>Education</th>\n      <th>EnvironmentSatisfaction</th>\n      <th>HourlyRate</th>\n      <th>JobInvolvement</th>\n      <th>JobLevel</th>\n      <th>JobSatisfaction</th>\n      <th>MonthlyIncome</th>\n      <th>...</th>\n      <th>YearsAtCompany</th>\n      <th>YearsInCurrentRole</th>\n      <th>YearsSinceLastPromotion</th>\n      <th>YearsWithCurrManager</th>\n      <th>MaritalStatus_numerical</th>\n      <th>OverTime_numerical</th>\n      <th>Gender_numerical</th>\n      <th>BusinessTravel_numerical</th>\n      <th>Department_numerical</th>\n      <th>Attrition_numerical</th>\n    </tr>\n  </thead>\n  <tbody>\n    <tr>\n      <th>0</th>\n      <td>41</td>\n      <td>1102</td>\n      <td>1</td>\n      <td>2</td>\n      <td>2</td>\n      <td>94</td>\n      <td>3</td>\n      <td>2</td>\n      <td>4</td>\n      <td>5993</td>\n      <td>...</td>\n      <td>6</td>\n      <td>4</td>\n      <td>0</td>\n      <td>5</td>\n      <td>0</td>\n      <td>1</td>\n      <td>1</td>\n      <td>1</td>\n      <td>0</td>\n      <td>1</td>\n    </tr>\n    <tr>\n      <th>1</th>\n      <td>49</td>\n      <td>279</td>\n      <td>8</td>\n      <td>1</td>\n      <td>3</td>\n      <td>61</td>\n      <td>2</td>\n      <td>2</td>\n      <td>2</td>\n      <td>5130</td>\n      <td>...</td>\n      <td>10</td>\n      <td>7</td>\n      <td>1</td>\n      <td>7</td>\n      <td>1</td>\n      <td>0</td>\n      <td>0</td>\n      <td>2</td>\n      <td>1</td>\n      <td>0</td>\n    </tr>\n    <tr>\n      <th>2</th>\n      <td>37</td>\n      <td>1373</td>\n      <td>2</td>\n      <td>2</td>\n      <td>4</td>\n      <td>92</td>\n      <td>2</td>\n      <td>1</td>\n      <td>3</td>\n      <td>2090</td>\n      <td>...</td>\n      <td>0</td>\n      <td>0</td>\n      <td>0</td>\n      <td>0</td>\n      <td>0</td>\n      <td>1</td>\n      <td>0</td>\n      <td>1</td>\n      <td>1</td>\n      <td>1</td>\n    </tr>\n    <tr>\n      <th>3</th>\n      <td>33</td>\n      <td>1392</td>\n      <td>3</td>\n      <td>4</td>\n      <td>4</td>\n      <td>56</td>\n      <td>3</td>\n      <td>1</td>\n      <td>3</td>\n      <td>2909</td>\n      <td>...</td>\n      <td>8</td>\n      <td>7</td>\n      <td>3</td>\n      <td>0</td>\n      <td>1</td>\n      <td>1</td>\n      <td>1</td>\n      <td>2</td>\n      <td>1</td>\n      <td>0</td>\n    </tr>\n    <tr>\n      <th>4</th>\n      <td>27</td>\n      <td>591</td>\n      <td>2</td>\n      <td>1</td>\n      <td>1</td>\n      <td>40</td>\n      <td>3</td>\n      <td>1</td>\n      <td>2</td>\n      <td>3468</td>\n      <td>...</td>\n      <td>2</td>\n      <td>2</td>\n      <td>2</td>\n      <td>2</td>\n      <td>1</td>\n      <td>0</td>\n      <td>0</td>\n      <td>1</td>\n      <td>1</td>\n      <td>0</td>\n    </tr>\n  </tbody>\n</table>\n<p>5 rows \u00d7 29 columns</p>\n</div>", 
                        "text/plain": "   \ufeffAge  DailyRate  DistanceFromHome  Education  EnvironmentSatisfaction  \\\n0    41       1102                 1          2                        2   \n1    49        279                 8          1                        3   \n2    37       1373                 2          2                        4   \n3    33       1392                 3          4                        4   \n4    27        591                 2          1                        1   \n\n   HourlyRate  JobInvolvement  JobLevel  JobSatisfaction  MonthlyIncome  \\\n0          94               3         2                4           5993   \n1          61               2         2                2           5130   \n2          92               2         1                3           2090   \n3          56               3         1                3           2909   \n4          40               3         1                2           3468   \n\n          ...           YearsAtCompany  YearsInCurrentRole  \\\n0         ...                        6                   4   \n1         ...                       10                   7   \n2         ...                        0                   0   \n3         ...                        8                   7   \n4         ...                        2                   2   \n\n   YearsSinceLastPromotion  YearsWithCurrManager  MaritalStatus_numerical  \\\n0                        0                     5                        0   \n1                        1                     7                        1   \n2                        0                     0                        0   \n3                        3                     0                        1   \n4                        2                     2                        1   \n\n   OverTime_numerical  Gender_numerical  BusinessTravel_numerical  \\\n0                   1                 1                         1   \n1                   0                 0                         2   \n2                   1                 0                         1   \n3                   1                 1                         2   \n4                   0                 0                         1   \n\n   Department_numerical  Attrition_numerical  \n0                     0                    1  \n1                     1                    0  \n2                     1                    1  \n3                     1                    0  \n4                     1                    0  \n\n[5 rows x 29 columns]"
                    }
                }
            ], 
            "execution_count": 58, 
            "source": "objects = feature_by_dtype[\"object\"]\nremove = [\"Over18\"]\ncategorical_features = [f for f in objects if f not in remove]\nint64s = feature_by_dtype[\"int64\"]\nremove.append(\"StandardHours\")\nremove.append(\"EmployeeCount\")\ncount_features = []\nfor i in [i for i in int64s if len(data[i].unique()) < 20 and i not in remove]:\n    count_features.append(i)\ncount_features = count_features + [\"TotalWorkingYears\", \"YearsAtCompany\", \"HourlyRate\"]\nremove.append(\"EmployeeNumber\")\nnumerical_features = [i for i in int64s if i not in remove]\nd=data[numerical_features]\nd.head()"
        }, 
        {
            "metadata": {
                "collapsed": false
            }, 
            "cell_type": "code", 
            "outputs": [
                {
                    "metadata": {}, 
                    "output_type": "execute_result", 
                    "execution_count": 15, 
                    "data": {
                        "text/plain": "Index([u'\ufeffAge', u'DailyRate', u'DistanceFromHome', u'Education',\n       u'EnvironmentSatisfaction', u'HourlyRate', u'JobInvolvement',\n       u'JobLevel', u'JobSatisfaction', u'MonthlyIncome', u'MonthlyRate',\n       u'NumCompaniesWorked', u'PercentSalaryHike', u'PerformanceRating',\n       u'RelationshipSatisfaction', u'StockOptionLevel', u'TotalWorkingYears',\n       u'TrainingTimesLastYear', u'WorkLifeBalance', u'YearsAtCompany',\n       u'YearsInCurrentRole', u'YearsSinceLastPromotion',\n       u'YearsWithCurrManager', u'MaritalStatus_numerical',\n       u'OverTime_numerical', u'Gender_numerical', u'BusinessTravel_numerical',\n       u'Department_numerical', u'Attrition_numerical'],\n      dtype='object')"
                    }
                }
            ], 
            "execution_count": 15, 
            "source": "d.columns #Getting the numerical columns for further processing"
        }, 
        {
            "metadata": {}, 
            "cell_type": "markdown", 
            "source": "# Data Visualization"
        }, 
        {
            "metadata": {}, 
            "cell_type": "markdown", 
            "source": "### Employees who stay have more job satisfication than employees lost in attrition"
        }, 
        {
            "metadata": {
                "collapsed": false
            }, 
            "cell_type": "code", 
            "outputs": [
                {
                    "metadata": {}, 
                    "output_type": "execute_result", 
                    "execution_count": 144, 
                    "data": {
                        "text/plain": "<matplotlib.axes._subplots.AxesSubplot at 0x7f2ae824eb10>"
                    }
                }, 
                {
                    "metadata": {}, 
                    "output_type": "display_data", 
                    "data": {
                        "image/png": "[encoded data removed]", 
                        "text/plain": "<matplotlib.figure.Figure at 0x7f2ae82e1c90>"
                    }
                }
            ], 
            "execution_count": 144, 
            "source": "#sns.set_context(\"notebook\")\nsns.barplot(y=\"JobSatisfaction\", x=\"Attrition\", data=attrition)"
        }, 
        {
            "metadata": {}, 
            "cell_type": "markdown", 
            "source": "### Employees lost in attrition tend to have lower monthly average income on average than those who stay"
        }, 
        {
            "metadata": {
                "collapsed": false
            }, 
            "cell_type": "code", 
            "outputs": [
                {
                    "metadata": {}, 
                    "output_type": "execute_result", 
                    "execution_count": 145, 
                    "data": {
                        "text/plain": "<matplotlib.axes._subplots.AxesSubplot at 0x7f2ae8266a50>"
                    }
                }, 
                {
                    "metadata": {}, 
                    "output_type": "display_data", 
                    "data": {
                        "image/png": "[encoded data removed]", 
                        "text/plain": "<matplotlib.figure.Figure at 0x7f2ae82156d0>"
                    }
                }
            ], 
            "execution_count": 145, 
            "source": "sns.barplot(y=\"MonthlyIncome\", x=\"Attrition\", data=attrition)"
        }, 
        {
            "metadata": {}, 
            "cell_type": "markdown", 
            "source": "### Male have higher level of  Attrition as relative to Female"
        }, 
        {
            "metadata": {
                "collapsed": false
            }, 
            "cell_type": "code", 
            "outputs": [
                {
                    "metadata": {}, 
                    "output_type": "execute_result", 
                    "execution_count": 146, 
                    "data": {
                        "text/plain": "<matplotlib.axes._subplots.AxesSubplot at 0x7f2ae815cd90>"
                    }
                }, 
                {
                    "metadata": {}, 
                    "output_type": "display_data", 
                    "data": {
                        "image/png": "[encoded data removed]", 
                        "text/plain": "<matplotlib.figure.Figure at 0x7f2ae80dba10>"
                    }
                }
            ], 
            "execution_count": 146, 
            "source": "sns.barplot(y=\"Attrition_numerical\", x=\"Gender\", data=attrition)"
        }, 
        {
            "metadata": {}, 
            "cell_type": "markdown", 
            "source": "### Employees who stay tend to have more stock options than those lost in attrition"
        }, 
        {
            "metadata": {
                "collapsed": false
            }, 
            "cell_type": "code", 
            "outputs": [
                {
                    "metadata": {}, 
                    "output_type": "execute_result", 
                    "execution_count": 147, 
                    "data": {
                        "text/plain": "<matplotlib.axes._subplots.AxesSubplot at 0x7f2ae816f510>"
                    }
                }, 
                {
                    "metadata": {}, 
                    "output_type": "display_data", 
                    "data": {
                        "image/png": "[encoded data removed]", 
                        "text/plain": "<matplotlib.figure.Figure at 0x7f2ae8096210>"
                    }
                }
            ], 
            "execution_count": 147, 
            "source": "sns.barplot(y=\"StockOptionLevel\", x=\"Attrition\", data=attrition)"
        }, 
        {
            "metadata": {}, 
            "cell_type": "markdown", 
            "source": "### Single people, followed by married people are more likely to leave the company as relative to people who are divorced"
        }, 
        {
            "metadata": {
                "collapsed": false
            }, 
            "cell_type": "code", 
            "outputs": [
                {
                    "metadata": {}, 
                    "output_type": "execute_result", 
                    "execution_count": 148, 
                    "data": {
                        "text/plain": "<matplotlib.axes._subplots.AxesSubplot at 0x7f2ac8786f90>"
                    }
                }, 
                {
                    "metadata": {}, 
                    "output_type": "display_data", 
                    "data": {
                        "image/png": "[encoded data removed]", 
                        "text/plain": "<matplotlib.figure.Figure at 0x7f2ac86fca10>"
                    }
                }
            ], 
            "execution_count": 148, 
            "source": "sns.barplot(y=\"Attrition_numerical\", x=\"MaritalStatus\", data=attrition)"
        }, 
        {
            "metadata": {}, 
            "cell_type": "markdown", 
            "source": "### Employees lost in attrition tend to be lower in job level than those who stay."
        }, 
        {
            "metadata": {
                "collapsed": false
            }, 
            "cell_type": "code", 
            "outputs": [
                {
                    "metadata": {}, 
                    "output_type": "execute_result", 
                    "execution_count": 149, 
                    "data": {
                        "text/plain": "<matplotlib.axes._subplots.AxesSubplot at 0x7f2ac86bb890>"
                    }
                }, 
                {
                    "metadata": {}, 
                    "output_type": "display_data", 
                    "data": {
                        "image/png": "[encoded data removed]", 
                        "text/plain": "<matplotlib.figure.Figure at 0x7f2ac875bc90>"
                    }
                }
            ], 
            "execution_count": 149, 
            "source": "sns.barplot(y=\"JobLevel\", x=\"Attrition\", data=attrition)"
        }, 
        {
            "metadata": {}, 
            "cell_type": "markdown", 
            "source": "### Employee working overtime are more likely to leave the company relative to the people who don't work overtime"
        }, 
        {
            "metadata": {
                "collapsed": false
            }, 
            "cell_type": "code", 
            "outputs": [
                {
                    "metadata": {}, 
                    "output_type": "execute_result", 
                    "execution_count": 150, 
                    "data": {
                        "text/plain": "<matplotlib.axes._subplots.AxesSubplot at 0x7f2ac866ad10>"
                    }
                }, 
                {
                    "metadata": {}, 
                    "output_type": "display_data", 
                    "data": {
                        "image/png": "[encoded data removed]", 
                        "text/plain": "<matplotlib.figure.Figure at 0x7f2ac8646250>"
                    }
                }
            ], 
            "execution_count": 150, 
            "source": "sns.barplot(y=\"OverTime_numerical\", x=\"Attrition\", data=attrition)"
        }, 
        {
            "metadata": {}, 
            "cell_type": "markdown", 
            "source": "### Employees lost in attrition tend to have longer commute distances than those who stay."
        }, 
        {
            "metadata": {
                "collapsed": false
            }, 
            "cell_type": "code", 
            "outputs": [
                {
                    "metadata": {}, 
                    "output_type": "execute_result", 
                    "execution_count": 151, 
                    "data": {
                        "text/plain": "<matplotlib.axes._subplots.AxesSubplot at 0x7f2ac859b810>"
                    }
                }, 
                {
                    "metadata": {}, 
                    "output_type": "display_data", 
                    "data": {
                        "image/png": "[encoded data removed]", 
                        "text/plain": "<matplotlib.figure.Figure at 0x7f2ac85a6ed0>"
                    }
                }
            ], 
            "execution_count": 151, 
            "source": "sns.barplot(y=\"DistanceFromHome\", x=\"Attrition\", data=attrition)"
        }, 
        {
            "metadata": {}, 
            "cell_type": "markdown", 
            "source": "### Employee lost in attrition are less involved with their jobs on average than those who stay."
        }, 
        {
            "metadata": {
                "collapsed": false
            }, 
            "cell_type": "code", 
            "outputs": [
                {
                    "metadata": {}, 
                    "output_type": "execute_result", 
                    "execution_count": 152, 
                    "data": {
                        "text/plain": "<matplotlib.axes._subplots.AxesSubplot at 0x7f2ac84d19d0>"
                    }
                }, 
                {
                    "metadata": {}, 
                    "output_type": "display_data", 
                    "data": {
                        "image/png": "[encoded data removed]", 
                        "text/plain": "<matplotlib.figure.Figure at 0x7f2ac866a7d0>"
                    }
                }
            ], 
            "execution_count": 152, 
            "source": "sns.barplot(y=\"JobInvolvement\", x=\"Attrition\", data=attrition)"
        }, 
        {
            "metadata": {
                "collapsed": true
            }, 
            "cell_type": "code", 
            "outputs": [], 
            "execution_count": 153, 
            "source": "df= attrition.copy()"
        }, 
        {
            "metadata": {}, 
            "cell_type": "markdown", 
            "source": "# Correlation Matrix"
        }, 
        {
            "metadata": {
                "collapsed": false
            }, 
            "cell_type": "code", 
            "outputs": [
                {
                    "metadata": {}, 
                    "output_type": "display_data", 
                    "data": {
                        "application/vnd.plotly.v1+json": {
                            "data": [
                                {
                                    "type": "heatmap", 
                                    "z": [
                                        [
                                            null, 
                                            null, 
                                            null, 
                                            null, 
                                            null, 
                                            null, 
                                            null, 
                                            null, 
                                            null, 
                                            null, 
                                            null, 
                                            null, 
                                            null, 
                                            null, 
                                            null, 
                                            null, 
                                            null, 
                                            null, 
                                            null, 
                                            null, 
                                            null, 
                                            null, 
                                            null, 
                                            null
                                        ], 
                                        [
                                            null, 
                                            1, 
                                            -0.004985337352552674, 
                                            -0.01680643320915765, 
                                            -0.050990433654478126, 
                                            0.018354854300385467, 
                                            0.023381421528320238, 
                                            0.04613487399781132, 
                                            0.0029663348551117142, 
                                            0.03057100783714411, 
                                            0.007707058872006039, 
                                            -0.032181601522581774, 
                                            0.03815343427940969, 
                                            0.022703677496334916, 
                                            0.0004732963271882408, 
                                            0.007846030957248321, 
                                            0.042142796377206686, 
                                            0.014514738706320859, 
                                            0.002452542712083261, 
                                            -0.037848051005781515, 
                                            -0.034054767568547466, 
                                            0.009932014960094184, 
                                            -0.03322898478777197, 
                                            -0.026363178228837648
                                        ], 
                                        [
                                            null, 
                                            -0.004985337352552674, 
                                            1, 
                                            0.021041825624123364, 
                                            0.032916407199243866, 
                                            -0.016075326996493465, 
                                            0.031130585611766015, 
                                            0.008783279886444232, 
                                            0.00530273055449623, 
                                            -0.0036688391677204214, 
                                            -0.01701444474527587, 
                                            0.027472863548884053, 
                                            -0.029250804197292986, 
                                            0.04023537745919304, 
                                            0.02710961848197604, 
                                            0.006557474646578711, 
                                            0.044871998853181376, 
                                            0.004628425863783853, 
                                            -0.036942234339916, 
                                            -0.02655600410656897, 
                                            0.009507719899011271, 
                                            0.018844999108945663, 
                                            0.010028835943115365, 
                                            0.014406048430629939
                                        ], 
                                        [
                                            null, 
                                            -0.01680643320915765, 
                                            0.021041825624123364, 
                                            1, 
                                            0.042070093029328424, 
                                            -0.027128313256511653, 
                                            0.016774828880960865, 
                                            0.042437634318608114, 
                                            0.10158888624850132, 
                                            -0.011296116736574009, 
                                            0.09496067704188856, 
                                            -0.026084197160047597, 
                                            0.12631656017668416, 
                                            -0.011110940860654199, 
                                            -0.024538791164833422, 
                                            -0.009118376696381497, 
                                            0.01842222020401694, 
                                            0.14827969653887266, 
                                            -0.025100241137933486, 
                                            0.009819189309781843, 
                                            0.06911369603133874, 
                                            0.060235554120695735, 
                                            0.05425433359132035, 
                                            0.06906537825528397
                                        ], 
                                        [
                                            null, 
                                            -0.050990433654478126, 
                                            0.032916407199243866, 
                                            0.042070093029328424, 
                                            1, 
                                            0.017620802485588, 
                                            0.035179212418711185, 
                                            -0.006887922987035419, 
                                            -0.018519193974228312, 
                                            -0.046246734939416716, 
                                            -0.014828515873784741, 
                                            0.012648229168459414, 
                                            -0.001251032039801599, 
                                            -0.012943995546151018, 
                                            -0.0203588251469522, 
                                            -0.06986141146763623, 
                                            0.06222669251362312, 
                                            -0.014365198461300408, 
                                            0.02360316959192501, 
                                            0.010308641437966677, 
                                            -0.011240463708114035, 
                                            -0.008416311998425857, 
                                            -0.009019064206633747, 
                                            -0.009196645292770457
                                        ], 
                                        [
                                            null, 
                                            0.018354854300385467, 
                                            -0.016075326996493465, 
                                            -0.027128313256511653, 
                                            0.017620802485588, 
                                            1, 
                                            -0.04985695620300049, 
                                            -0.008277598171759227, 
                                            0.001211699448913975, 
                                            -0.006784352599075191, 
                                            -0.006259087754780221, 
                                            0.03759962286571541, 
                                            0.012594323218943297, 
                                            -0.03170119524179215, 
                                            -0.029547952297681358, 
                                            0.0076653835410744765, 
                                            0.0034321577550576604, 
                                            -0.0026930703885341364, 
                                            -0.019359308347132335, 
                                            0.027627295460115407, 
                                            0.0014575491911166178, 
                                            0.018007460142878566, 
                                            0.016193605568453423, 
                                            -0.0049987226281075076
                                        ], 
                                        [
                                            null, 
                                            0.023381421528320238, 
                                            0.031130585611766015, 
                                            0.016774828880960865, 
                                            0.035179212418711185, 
                                            -0.04985695620300049, 
                                            1, 
                                            0.04286064097152996, 
                                            -0.027853486405547332, 
                                            -0.07133462437378851, 
                                            -0.015794304380892906, 
                                            -0.015296749550649706, 
                                            0.022156883390196815, 
                                            -0.009061986253740113, 
                                            -0.0021716974278102176, 
                                            0.0013304527859505607, 
                                            0.05026339906511977, 
                                            -0.002333681823322244, 
                                            -0.008547685209270621, 
                                            -0.004607233750264436, 
                                            -0.019581616209121213, 
                                            -0.02410622020878486, 
                                            -0.02671558606433533, 
                                            -0.020123200184066038
                                        ], 
                                        [
                                            null, 
                                            0.04613487399781132, 
                                            0.008783279886444232, 
                                            0.042437634318608114, 
                                            -0.006887922987035419, 
                                            -0.008277598171759227, 
                                            0.04286064097152996, 
                                            1, 
                                            -0.012629882671190917, 
                                            -0.02147591033530702, 
                                            -0.015271490778732858, 
                                            -0.016322079053317184, 
                                            0.01501241324311095, 
                                            -0.017204572244480576, 
                                            -0.029071333439070115, 
                                            0.03429682061119727, 
                                            0.021522640378023945, 
                                            -0.005533182057407529, 
                                            -0.015337825759428998, 
                                            -0.014616593162761336, 
                                            -0.02135542697962983, 
                                            0.008716963497611708, 
                                            -0.024184292365178967, 
                                            0.025975807949088905
                                        ], 
                                        [
                                            null, 
                                            0.0029663348551117142, 
                                            0.00530273055449623, 
                                            0.10158888624850132, 
                                            -0.018519193974228312, 
                                            0.001211699448913975, 
                                            -0.027853486405547332, 
                                            -0.012629882671190917, 
                                            1, 
                                            -0.0019437080267456803, 
                                            0.950299913479854, 
                                            0.039562951045684296, 
                                            0.14250112381048835, 
                                            -0.03473049227941859, 
                                            -0.021222082108856632, 
                                            0.021641510532591626, 
                                            0.013983910528615518, 
                                            0.7822078045362802, 
                                            -0.01819055019354957, 
                                            0.03781774559666627, 
                                            0.5347386873756353, 
                                            0.3894467328766716, 
                                            0.35388534696410395, 
                                            0.3752806077657263
                                        ], 
                                        [
                                            null, 
                                            0.03057100783714411, 
                                            -0.0036688391677204214, 
                                            -0.011296116736574009, 
                                            -0.046246734939416716, 
                                            -0.006784352599075191, 
                                            -0.07133462437378851, 
                                            -0.02147591033530702, 
                                            -0.0019437080267456803, 
                                            1, 
                                            -0.007156742355912731, 
                                            0.0006439169427039258, 
                                            -0.05569942601274601, 
                                            0.020002039364081937, 
                                            0.0022971970637801426, 
                                            -0.012453593161926874, 
                                            0.01069022612075585, 
                                            -0.02018507268501687, 
                                            -0.005779334958609058, 
                                            -0.019458710212974534, 
                                            -0.003802627948288062, 
                                            -0.0023047852298301056, 
                                            -0.018213567810190918, 
                                            -0.02765621388428996
                                        ], 
                                        [
                                            null, 
                                            0.007707058872006039, 
                                            -0.01701444474527587, 
                                            0.09496067704188856, 
                                            -0.014828515873784741, 
                                            -0.006259087754780221, 
                                            -0.015794304380892906, 
                                            -0.015271490778732858, 
                                            0.950299913479854, 
                                            -0.007156742355912731, 
                                            1, 
                                            0.034813626134121846, 
                                            0.14951521598969764, 
                                            -0.027268586440314498, 
                                            -0.017120138237390704, 
                                            0.025873436137557375, 
                                            0.005407676696812226, 
                                            0.7728932462543548, 
                                            -0.021736276823893293, 
                                            0.030683081556940366, 
                                            0.5142848257331964, 
                                            0.36381766692870654, 
                                            0.34497763816542787, 
                                            0.3440788832587207
                                        ], 
                                        [
                                            null, 
                                            -0.032181601522581774, 
                                            0.027472863548884053, 
                                            -0.026084197160047597, 
                                            0.012648229168459414, 
                                            0.03759962286571541, 
                                            -0.015296749550649706, 
                                            -0.016322079053317184, 
                                            0.039562951045684296, 
                                            0.0006439169427039258, 
                                            0.034813626134121846, 
                                            1, 
                                            0.017521353415571556, 
                                            -0.006429345946711349, 
                                            -0.00981142848936072, 
                                            -0.004085329337519465, 
                                            -0.034322830206661034, 
                                            0.026442471176015413, 
                                            0.0014668806322857696, 
                                            0.007963157516976974, 
                                            -0.02365510670617723, 
                                            -0.012814874370471655, 
                                            0.0015667995146762359, 
                                            -0.036745905336769295
                                        ], 
                                        [
                                            null, 
                                            0.03815343427940969, 
                                            -0.029250804197292986, 
                                            0.12631656017668416, 
                                            -0.001251032039801599, 
                                            0.012594323218943297, 
                                            0.022156883390196815, 
                                            0.01501241324311095, 
                                            0.14250112381048835, 
                                            -0.05569942601274601, 
                                            0.14951521598969764, 
                                            0.017521353415571556, 
                                            1, 
                                            -0.010238309359925531, 
                                            -0.014094872753535341, 
                                            0.052733048564885456, 
                                            0.03007547509689753, 
                                            0.23763858978479374, 
                                            -0.06605407172783631, 
                                            -0.008365684790058657, 
                                            -0.11842134024259048, 
                                            -0.09075393370080816, 
                                            -0.03681389238350813, 
                                            -0.11031915543773214
                                        ], 
                                        [
                                            null, 
                                            0.022703677496334916, 
                                            0.04023537745919304, 
                                            -0.011110940860654199, 
                                            -0.012943995546151018, 
                                            -0.03170119524179215, 
                                            -0.009061986253740113, 
                                            -0.017204572244480576, 
                                            -0.03473049227941859, 
                                            0.020002039364081937, 
                                            -0.027268586440314498, 
                                            -0.006429345946711349, 
                                            -0.010238309359925531, 
                                            1, 
                                            0.7735499964012668, 
                                            -0.0404900810570771, 
                                            0.00752774782052024, 
                                            -0.02060848761769149, 
                                            -0.005221012351720988, 
                                            -0.0032796360093679373, 
                                            -0.03599126243195386, 
                                            -0.0015200265442777384, 
                                            -0.022154312598866084, 
                                            -0.011985248472361218
                                        ], 
                                        [
                                            null, 
                                            0.0004732963271882408, 
                                            0.02710961848197604, 
                                            -0.024538791164833422, 
                                            -0.0203588251469522, 
                                            -0.029547952297681358, 
                                            -0.0021716974278102176, 
                                            -0.029071333439070115, 
                                            -0.021222082108856632, 
                                            0.0022971970637801426, 
                                            -0.017120138237390704, 
                                            -0.00981142848936072, 
                                            -0.014094872753535341, 
                                            0.7735499964012668, 
                                            1, 
                                            -0.03135145544245493, 
                                            0.003506471614809925, 
                                            0.006743667905952884, 
                                            -0.015578881739137221, 
                                            0.002572361317682325, 
                                            0.003435126115923952, 
                                            0.03498626040719472, 
                                            0.017896066144799612, 
                                            0.022827168908479786
                                        ], 
                                        [
                                            null, 
                                            0.007846030957248321, 
                                            0.006557474646578711, 
                                            -0.009118376696381497, 
                                            -0.06986141146763623, 
                                            0.0076653835410744765, 
                                            0.0013304527859505607, 
                                            0.03429682061119727, 
                                            0.021641510532591626, 
                                            -0.012453593161926874, 
                                            0.025873436137557375, 
                                            -0.004085329337519465, 
                                            0.052733048564885456, 
                                            -0.0404900810570771, 
                                            -0.03135145544245493, 
                                            1, 
                                            -0.04595249071656096, 
                                            0.02405429182134115, 
                                            0.0024965263921170973, 
                                            0.01960440570396862, 
                                            0.019366786877455352, 
                                            -0.015122914881937524, 
                                            0.033492502069353614, 
                                            -0.0008674968446255921
                                        ], 
                                        [
                                            null, 
                                            0.042142796377206686, 
                                            0.044871998853181376, 
                                            0.01842222020401694, 
                                            0.06222669251362312, 
                                            0.0034321577550576604, 
                                            0.05026339906511977, 
                                            0.021522640378023945, 
                                            0.013983910528615518, 
                                            0.01069022612075585, 
                                            0.005407676696812226, 
                                            -0.034322830206661034, 
                                            0.03007547509689753, 
                                            0.00752774782052024, 
                                            0.003506471614809925, 
                                            -0.04595249071656096, 
                                            1, 
                                            0.01013596931890164, 
                                            0.011274069611249013, 
                                            0.004128730002871822, 
                                            0.015058008028094429, 
                                            0.05081787275393108, 
                                            0.014352184864355582, 
                                            0.02469822656302997
                                        ], 
                                        [
                                            null, 
                                            0.014514738706320859, 
                                            0.004628425863783853, 
                                            0.14827969653887266, 
                                            -0.014365198461300408, 
                                            -0.0026930703885341364, 
                                            -0.002333681823322244, 
                                            -0.005533182057407529, 
                                            0.7822078045362802, 
                                            -0.02018507268501687, 
                                            0.7728932462543548, 
                                            0.026442471176015413, 
                                            0.23763858978479374, 
                                            -0.02060848761769149, 
                                            0.006743667905952884, 
                                            0.02405429182134115, 
                                            0.01013596931890164, 
                                            1, 
                                            -0.03566157127961898, 
                                            0.0010076456218964744, 
                                            0.6281331552682479, 
                                            0.4603646380118082, 
                                            0.40485775850255995, 
                                            0.4591883970831438
                                        ], 
                                        [
                                            null, 
                                            0.002452542712083261, 
                                            -0.036942234339916, 
                                            -0.025100241137933486, 
                                            0.02360316959192501, 
                                            -0.019359308347132335, 
                                            -0.008547685209270621, 
                                            -0.015337825759428998, 
                                            -0.01819055019354957, 
                                            -0.005779334958609058, 
                                            -0.021736276823893293, 
                                            0.0014668806322857696, 
                                            -0.06605407172783631, 
                                            -0.005221012351720988, 
                                            -0.015578881739137221, 
                                            0.0024965263921170973, 
                                            0.011274069611249013, 
                                            -0.03566157127961898, 
                                            1, 
                                            0.028072206603628903, 
                                            0.003568665678427497, 
                                            -0.005737504337956901, 
                                            -0.00206653603800598, 
                                            -0.0040955260212261965
                                        ], 
                                        [
                                            null, 
                                            -0.037848051005781515, 
                                            -0.02655600410656897, 
                                            0.009819189309781843, 
                                            0.010308641437966677, 
                                            0.027627295460115407, 
                                            -0.004607233750264436, 
                                            -0.014616593162761336, 
                                            0.03781774559666627, 
                                            -0.019458710212974534, 
                                            0.030683081556940366, 
                                            0.007963157516976974, 
                                            -0.008365684790058657, 
                                            -0.0032796360093679373, 
                                            0.002572361317682325, 
                                            0.01960440570396862, 
                                            0.004128730002871822, 
                                            0.0010076456218964744, 
                                            0.028072206603628903, 
                                            1, 
                                            0.012089185354581271, 
                                            0.04985649792220411, 
                                            0.008941249141234248, 
                                            0.002759440242340434
                                        ], 
                                        [
                                            null, 
                                            -0.034054767568547466, 
                                            0.009507719899011271, 
                                            0.06911369603133874, 
                                            -0.011240463708114035, 
                                            0.0014575491911166178, 
                                            -0.019581616209121213, 
                                            -0.02135542697962983, 
                                            0.5347386873756353, 
                                            -0.003802627948288062, 
                                            0.5142848257331964, 
                                            -0.02365510670617723, 
                                            -0.11842134024259048, 
                                            -0.03599126243195386, 
                                            0.003435126115923952, 
                                            0.019366786877455352, 
                                            0.015058008028094429, 
                                            0.6281331552682479, 
                                            0.003568665678427497, 
                                            0.012089185354581271, 
                                            1, 
                                            0.7587537366134616, 
                                            0.618408865217602, 
                                            0.7692124251006991
                                        ], 
                                        [
                                            null, 
                                            0.009932014960094184, 
                                            0.018844999108945663, 
                                            0.060235554120695735, 
                                            -0.008416311998425857, 
                                            0.018007460142878566, 
                                            -0.02410622020878486, 
                                            0.008716963497611708, 
                                            0.3894467328766716, 
                                            -0.0023047852298301056, 
                                            0.36381766692870654, 
                                            -0.012814874370471655, 
                                            -0.09075393370080816, 
                                            -0.0015200265442777384, 
                                            0.03498626040719472, 
                                            -0.015122914881937524, 
                                            0.05081787275393108, 
                                            0.4603646380118082, 
                                            -0.005737504337956901, 
                                            0.04985649792220411, 
                                            0.7587537366134616, 
                                            1, 
                                            0.5480562476995158, 
                                            0.7143647616385903
                                        ], 
                                        [
                                            null, 
                                            -0.03322898478777197, 
                                            0.010028835943115365, 
                                            0.05425433359132035, 
                                            -0.009019064206633747, 
                                            0.016193605568453423, 
                                            -0.02671558606433533, 
                                            -0.024184292365178967, 
                                            0.35388534696410395, 
                                            -0.018213567810190918, 
                                            0.34497763816542787, 
                                            0.0015667995146762359, 
                                            -0.03681389238350813, 
                                            -0.022154312598866084, 
                                            0.017896066144799612, 
                                            0.033492502069353614, 
                                            0.014352184864355582, 
                                            0.40485775850255995, 
                                            -0.00206653603800598, 
                                            0.008941249141234248, 
                                            0.618408865217602, 
                                            0.5480562476995158, 
                                            1, 
                                            0.5102236357788096
                                        ], 
                                        [
                                            null, 
                                            -0.026363178228837648, 
                                            0.014406048430629939, 
                                            0.06906537825528397, 
                                            -0.009196645292770457, 
                                            -0.0049987226281075076, 
                                            -0.020123200184066038, 
                                            0.025975807949088905, 
                                            0.3752806077657263, 
                                            -0.02765621388428996, 
                                            0.3440788832587207, 
                                            -0.036745905336769295, 
                                            -0.11031915543773214, 
                                            -0.011985248472361218, 
                                            0.022827168908479786, 
                                            -0.0008674968446255921, 
                                            0.02469822656302997, 
                                            0.4591883970831438, 
                                            -0.0040955260212261965, 
                                            0.002759440242340434, 
                                            0.7692124251006991, 
                                            0.7143647616385903, 
                                            0.5102236357788096, 
                                            1
                                        ]
                                    ], 
                                    "x": [
                                        "Age", 
                                        "DailyRate", 
                                        "DistanceFromHome", 
                                        "Education", 
                                        "EmployeeNumber", 
                                        "EnvironmentSatisfaction", 
                                        "HourlyRate", 
                                        "JobInvolvement", 
                                        "JobLevel", 
                                        "JobSatisfaction", 
                                        "MonthlyIncome", 
                                        "MonthlyRate", 
                                        "NumCompaniesWorked", 
                                        "PercentSalaryHike", 
                                        "PerformanceRating", 
                                        "RelationshipSatisfaction", 
                                        "StockOptionLevel", 
                                        "TotalWorkingYears", 
                                        "TrainingTimesLastYear", 
                                        "WorkLifeBalance", 
                                        "YearsAtCompany", 
                                        "YearsInCurrentRole", 
                                        "YearsSinceLastPromotion", 
                                        "YearsWithCurrManager"
                                    ], 
                                    "y": [
                                        "Age", 
                                        "DailyRate", 
                                        "DistanceFromHome", 
                                        "Education", 
                                        "EmployeeNumber", 
                                        "EnvironmentSatisfaction", 
                                        "HourlyRate", 
                                        "JobInvolvement", 
                                        "JobLevel", 
                                        "JobSatisfaction", 
                                        "MonthlyIncome", 
                                        "MonthlyRate", 
                                        "NumCompaniesWorked", 
                                        "PercentSalaryHike", 
                                        "PerformanceRating", 
                                        "RelationshipSatisfaction", 
                                        "StockOptionLevel", 
                                        "TotalWorkingYears", 
                                        "TrainingTimesLastYear", 
                                        "WorkLifeBalance", 
                                        "YearsAtCompany", 
                                        "YearsInCurrentRole", 
                                        "YearsSinceLastPromotion", 
                                        "YearsWithCurrManager"
                                    ]
                                }
                            ], 
                            "layout": {
                                "height": 700, 
                                "xaxis": {
                                    "nticks": 36, 
                                    "ticks": ""
                                }, 
                                "width": 900, 
                                "title": "Correlation of numerical features", 
                                "yaxis": {
                                    "ticks": ""
                                }
                            }
                        }, 
                        "text/html": "<div id=\"50f86e1d-1ac3-4e8e-857a-8d8836ea4074\" style=\"height: 700px; width: 900px;\" class=\"plotly-graph-div\"></div><script type=\"text/javascript\">require([\"plotly\"], function(Plotly) { window.PLOTLYENV=window.PLOTLYENV || {};window.PLOTLYENV.BASE_URL=\"https://plot.ly\";Plotly.newPlot(\"50f86e1d-1ac3-4e8e-857a-8d8836ea4074\", [{\"y\": [\"Age\", \"DailyRate\", \"DistanceFromHome\", \"Education\", \"EmployeeNumber\", \"EnvironmentSatisfaction\", \"HourlyRate\", \"JobInvolvement\", \"JobLevel\", \"JobSatisfaction\", \"MonthlyIncome\", \"MonthlyRate\", \"NumCompaniesWorked\", \"PercentSalaryHike\", \"PerformanceRating\", \"RelationshipSatisfaction\", \"StockOptionLevel\", \"TotalWorkingYears\", \"TrainingTimesLastYear\", \"WorkLifeBalance\", \"YearsAtCompany\", \"YearsInCurrentRole\", \"YearsSinceLastPromotion\", \"YearsWithCurrManager\"], \"x\": [\"Age\", \"DailyRate\", \"DistanceFromHome\", \"Education\", \"EmployeeNumber\", \"EnvironmentSatisfaction\", \"HourlyRate\", \"JobInvolvement\", \"JobLevel\", \"JobSatisfaction\", \"MonthlyIncome\", \"MonthlyRate\", \"NumCompaniesWorked\", \"PercentSalaryHike\", \"PerformanceRating\", \"RelationshipSatisfaction\", \"StockOptionLevel\", \"TotalWorkingYears\", \"TrainingTimesLastYear\", \"WorkLifeBalance\", \"YearsAtCompany\", \"YearsInCurrentRole\", \"YearsSinceLastPromotion\", \"YearsWithCurrManager\"], \"z\": [[null, null, null, null, null, null, null, null, null, null, null, null, null, null, null, null, null, null, null, null, null, null, null, null], [null, 1.0, -0.004985337352552674, -0.01680643320915765, -0.050990433654478126, 0.018354854300385467, 0.023381421528320238, 0.04613487399781132, 0.0029663348551117142, 0.03057100783714411, 0.007707058872006039, -0.032181601522581774, 0.03815343427940969, 0.022703677496334916, 0.0004732963271882408, 0.007846030957248321, 0.042142796377206686, 0.014514738706320859, 0.002452542712083261, -0.037848051005781515, -0.034054767568547466, 0.009932014960094184, -0.03322898478777197, -0.026363178228837648], [null, -0.004985337352552674, 1.0, 0.021041825624123364, 0.032916407199243866, -0.016075326996493465, 0.031130585611766015, 0.008783279886444232, 0.00530273055449623, -0.0036688391677204214, -0.01701444474527587, 0.027472863548884053, -0.029250804197292986, 0.04023537745919304, 0.02710961848197604, 0.006557474646578711, 0.044871998853181376, 0.004628425863783853, -0.036942234339916, -0.02655600410656897, 0.009507719899011271, 0.018844999108945663, 0.010028835943115365, 0.014406048430629939], [null, -0.01680643320915765, 0.021041825624123364, 1.0, 0.042070093029328424, -0.027128313256511653, 0.016774828880960865, 0.042437634318608114, 0.10158888624850132, -0.011296116736574009, 0.09496067704188856, -0.026084197160047597, 0.12631656017668416, -0.011110940860654199, -0.024538791164833422, -0.009118376696381497, 0.01842222020401694, 0.14827969653887266, -0.025100241137933486, 0.009819189309781843, 0.06911369603133874, 0.060235554120695735, 0.05425433359132035, 0.06906537825528397], [null, -0.050990433654478126, 0.032916407199243866, 0.042070093029328424, 1.0, 0.017620802485588, 0.035179212418711185, -0.006887922987035419, -0.018519193974228312, -0.046246734939416716, -0.014828515873784741, 0.012648229168459414, -0.001251032039801599, -0.012943995546151018, -0.0203588251469522, -0.06986141146763623, 0.06222669251362312, -0.014365198461300408, 0.02360316959192501, 0.010308641437966677, -0.011240463708114035, -0.008416311998425857, -0.009019064206633747, -0.009196645292770457], [null, 0.018354854300385467, -0.016075326996493465, -0.027128313256511653, 0.017620802485588, 1.0, -0.04985695620300049, -0.008277598171759227, 0.001211699448913975, -0.006784352599075191, -0.006259087754780221, 0.03759962286571541, 0.012594323218943297, -0.03170119524179215, -0.029547952297681358, 0.0076653835410744765, 0.0034321577550576604, -0.0026930703885341364, -0.019359308347132335, 0.027627295460115407, 0.0014575491911166178, 0.018007460142878566, 0.016193605568453423, -0.0049987226281075076], [null, 0.023381421528320238, 0.031130585611766015, 0.016774828880960865, 0.035179212418711185, -0.04985695620300049, 1.0, 0.04286064097152996, -0.027853486405547332, -0.07133462437378851, -0.015794304380892906, -0.015296749550649706, 0.022156883390196815, -0.009061986253740113, -0.0021716974278102176, 0.0013304527859505607, 0.05026339906511977, -0.002333681823322244, -0.008547685209270621, -0.004607233750264436, -0.019581616209121213, -0.02410622020878486, -0.02671558606433533, -0.020123200184066038], [null, 0.04613487399781132, 0.008783279886444232, 0.042437634318608114, -0.006887922987035419, -0.008277598171759227, 0.04286064097152996, 1.0, -0.012629882671190917, -0.02147591033530702, -0.015271490778732858, -0.016322079053317184, 0.01501241324311095, -0.017204572244480576, -0.029071333439070115, 0.03429682061119727, 0.021522640378023945, -0.005533182057407529, -0.015337825759428998, -0.014616593162761336, -0.02135542697962983, 0.008716963497611708, -0.024184292365178967, 0.025975807949088905], [null, 0.0029663348551117142, 0.00530273055449623, 0.10158888624850132, -0.018519193974228312, 0.001211699448913975, -0.027853486405547332, -0.012629882671190917, 1.0, -0.0019437080267456803, 0.950299913479854, 0.039562951045684296, 0.14250112381048835, -0.03473049227941859, -0.021222082108856632, 0.021641510532591626, 0.013983910528615518, 0.7822078045362802, -0.01819055019354957, 0.03781774559666627, 0.5347386873756353, 0.3894467328766716, 0.35388534696410395, 0.3752806077657263], [null, 0.03057100783714411, -0.0036688391677204214, -0.011296116736574009, -0.046246734939416716, -0.006784352599075191, -0.07133462437378851, -0.02147591033530702, -0.0019437080267456803, 1.0, -0.007156742355912731, 0.0006439169427039258, -0.05569942601274601, 0.020002039364081937, 0.0022971970637801426, -0.012453593161926874, 0.01069022612075585, -0.02018507268501687, -0.005779334958609058, -0.019458710212974534, -0.003802627948288062, -0.0023047852298301056, -0.018213567810190918, -0.02765621388428996], [null, 0.007707058872006039, -0.01701444474527587, 0.09496067704188856, -0.014828515873784741, -0.006259087754780221, -0.015794304380892906, -0.015271490778732858, 0.950299913479854, -0.007156742355912731, 1.0, 0.034813626134121846, 0.14951521598969764, -0.027268586440314498, -0.017120138237390704, 0.025873436137557375, 0.005407676696812226, 0.7728932462543548, -0.021736276823893293, 0.030683081556940366, 0.5142848257331964, 0.36381766692870654, 0.34497763816542787, 0.3440788832587207], [null, -0.032181601522581774, 0.027472863548884053, -0.026084197160047597, 0.012648229168459414, 0.03759962286571541, -0.015296749550649706, -0.016322079053317184, 0.039562951045684296, 0.0006439169427039258, 0.034813626134121846, 1.0, 0.017521353415571556, -0.006429345946711349, -0.00981142848936072, -0.004085329337519465, -0.034322830206661034, 0.026442471176015413, 0.0014668806322857696, 0.007963157516976974, -0.02365510670617723, -0.012814874370471655, 0.0015667995146762359, -0.036745905336769295], [null, 0.03815343427940969, -0.029250804197292986, 0.12631656017668416, -0.001251032039801599, 0.012594323218943297, 0.022156883390196815, 0.01501241324311095, 0.14250112381048835, -0.05569942601274601, 0.14951521598969764, 0.017521353415571556, 1.0, -0.010238309359925531, -0.014094872753535341, 0.052733048564885456, 0.03007547509689753, 0.23763858978479374, -0.06605407172783631, -0.008365684790058657, -0.11842134024259048, -0.09075393370080816, -0.03681389238350813, -0.11031915543773214], [null, 0.022703677496334916, 0.04023537745919304, -0.011110940860654199, -0.012943995546151018, -0.03170119524179215, -0.009061986253740113, -0.017204572244480576, -0.03473049227941859, 0.020002039364081937, -0.027268586440314498, -0.006429345946711349, -0.010238309359925531, 1.0, 0.7735499964012668, -0.0404900810570771, 0.00752774782052024, -0.02060848761769149, -0.005221012351720988, -0.0032796360093679373, -0.03599126243195386, -0.0015200265442777384, -0.022154312598866084, -0.011985248472361218], [null, 0.0004732963271882408, 0.02710961848197604, -0.024538791164833422, -0.0203588251469522, -0.029547952297681358, -0.0021716974278102176, -0.029071333439070115, -0.021222082108856632, 0.0022971970637801426, -0.017120138237390704, -0.00981142848936072, -0.014094872753535341, 0.7735499964012668, 1.0, -0.03135145544245493, 0.003506471614809925, 0.006743667905952884, -0.015578881739137221, 0.002572361317682325, 0.003435126115923952, 0.03498626040719472, 0.017896066144799612, 0.022827168908479786], [null, 0.007846030957248321, 0.006557474646578711, -0.009118376696381497, -0.06986141146763623, 0.0076653835410744765, 0.0013304527859505607, 0.03429682061119727, 0.021641510532591626, -0.012453593161926874, 0.025873436137557375, -0.004085329337519465, 0.052733048564885456, -0.0404900810570771, -0.03135145544245493, 1.0, -0.04595249071656096, 0.02405429182134115, 0.0024965263921170973, 0.01960440570396862, 0.019366786877455352, -0.015122914881937524, 0.033492502069353614, -0.0008674968446255921], [null, 0.042142796377206686, 0.044871998853181376, 0.01842222020401694, 0.06222669251362312, 0.0034321577550576604, 0.05026339906511977, 0.021522640378023945, 0.013983910528615518, 0.01069022612075585, 0.005407676696812226, -0.034322830206661034, 0.03007547509689753, 0.00752774782052024, 0.003506471614809925, -0.04595249071656096, 1.0, 0.01013596931890164, 0.011274069611249013, 0.004128730002871822, 0.015058008028094429, 0.05081787275393108, 0.014352184864355582, 0.02469822656302997], [null, 0.014514738706320859, 0.004628425863783853, 0.14827969653887266, -0.014365198461300408, -0.0026930703885341364, -0.002333681823322244, -0.005533182057407529, 0.7822078045362802, -0.02018507268501687, 0.7728932462543548, 0.026442471176015413, 0.23763858978479374, -0.02060848761769149, 0.006743667905952884, 0.02405429182134115, 0.01013596931890164, 1.0, -0.03566157127961898, 0.0010076456218964744, 0.6281331552682479, 0.4603646380118082, 0.40485775850255995, 0.4591883970831438], [null, 0.002452542712083261, -0.036942234339916, -0.025100241137933486, 0.02360316959192501, -0.019359308347132335, -0.008547685209270621, -0.015337825759428998, -0.01819055019354957, -0.005779334958609058, -0.021736276823893293, 0.0014668806322857696, -0.06605407172783631, -0.005221012351720988, -0.015578881739137221, 0.0024965263921170973, 0.011274069611249013, -0.03566157127961898, 1.0, 0.028072206603628903, 0.003568665678427497, -0.005737504337956901, -0.00206653603800598, -0.0040955260212261965], [null, -0.037848051005781515, -0.02655600410656897, 0.009819189309781843, 0.010308641437966677, 0.027627295460115407, -0.004607233750264436, -0.014616593162761336, 0.03781774559666627, -0.019458710212974534, 0.030683081556940366, 0.007963157516976974, -0.008365684790058657, -0.0032796360093679373, 0.002572361317682325, 0.01960440570396862, 0.004128730002871822, 0.0010076456218964744, 0.028072206603628903, 1.0, 0.012089185354581271, 0.04985649792220411, 0.008941249141234248, 0.002759440242340434], [null, -0.034054767568547466, 0.009507719899011271, 0.06911369603133874, -0.011240463708114035, 0.0014575491911166178, -0.019581616209121213, -0.02135542697962983, 0.5347386873756353, -0.003802627948288062, 0.5142848257331964, -0.02365510670617723, -0.11842134024259048, -0.03599126243195386, 0.003435126115923952, 0.019366786877455352, 0.015058008028094429, 0.6281331552682479, 0.003568665678427497, 0.012089185354581271, 1.0, 0.7587537366134616, 0.618408865217602, 0.7692124251006991], [null, 0.009932014960094184, 0.018844999108945663, 0.060235554120695735, -0.008416311998425857, 0.018007460142878566, -0.02410622020878486, 0.008716963497611708, 0.3894467328766716, -0.0023047852298301056, 0.36381766692870654, -0.012814874370471655, -0.09075393370080816, -0.0015200265442777384, 0.03498626040719472, -0.015122914881937524, 0.05081787275393108, 0.4603646380118082, -0.005737504337956901, 0.04985649792220411, 0.7587537366134616, 1.0, 0.5480562476995158, 0.7143647616385903], [null, -0.03322898478777197, 0.010028835943115365, 0.05425433359132035, -0.009019064206633747, 0.016193605568453423, -0.02671558606433533, -0.024184292365178967, 0.35388534696410395, -0.018213567810190918, 0.34497763816542787, 0.0015667995146762359, -0.03681389238350813, -0.022154312598866084, 0.017896066144799612, 0.033492502069353614, 0.014352184864355582, 0.40485775850255995, -0.00206653603800598, 0.008941249141234248, 0.618408865217602, 0.5480562476995158, 1.0, 0.5102236357788096], [null, -0.026363178228837648, 0.014406048430629939, 0.06906537825528397, -0.009196645292770457, -0.0049987226281075076, -0.020123200184066038, 0.025975807949088905, 0.3752806077657263, -0.02765621388428996, 0.3440788832587207, -0.036745905336769295, -0.11031915543773214, -0.011985248472361218, 0.022827168908479786, -0.0008674968446255921, 0.02469822656302997, 0.4591883970831438, -0.0040955260212261965, 0.002759440242340434, 0.7692124251006991, 0.7143647616385903, 0.5102236357788096, 1.0]], \"type\": \"heatmap\"}], {\"width\": 900, \"yaxis\": {\"ticks\": \"\"}, \"title\": \"Correlation of numerical features\", \"xaxis\": {\"nticks\": 36, \"ticks\": \"\"}, \"height\": 700}, {\"linkText\": \"Export to plot.ly\", \"showLink\": true})});</script>", 
                        "text/vnd.plotly.v1+html": "<div id=\"50f86e1d-1ac3-4e8e-857a-8d8836ea4074\" style=\"height: 700px; width: 900px;\" class=\"plotly-graph-div\"></div><script type=\"text/javascript\">require([\"plotly\"], function(Plotly) { window.PLOTLYENV=window.PLOTLYENV || {};window.PLOTLYENV.BASE_URL=\"https://plot.ly\";Plotly.newPlot(\"50f86e1d-1ac3-4e8e-857a-8d8836ea4074\", [{\"y\": [\"Age\", \"DailyRate\", \"DistanceFromHome\", \"Education\", \"EmployeeNumber\", \"EnvironmentSatisfaction\", \"HourlyRate\", \"JobInvolvement\", \"JobLevel\", \"JobSatisfaction\", \"MonthlyIncome\", \"MonthlyRate\", \"NumCompaniesWorked\", \"PercentSalaryHike\", \"PerformanceRating\", \"RelationshipSatisfaction\", \"StockOptionLevel\", \"TotalWorkingYears\", \"TrainingTimesLastYear\", \"WorkLifeBalance\", \"YearsAtCompany\", \"YearsInCurrentRole\", \"YearsSinceLastPromotion\", \"YearsWithCurrManager\"], \"x\": [\"Age\", \"DailyRate\", \"DistanceFromHome\", \"Education\", \"EmployeeNumber\", \"EnvironmentSatisfaction\", \"HourlyRate\", \"JobInvolvement\", \"JobLevel\", \"JobSatisfaction\", \"MonthlyIncome\", \"MonthlyRate\", \"NumCompaniesWorked\", \"PercentSalaryHike\", \"PerformanceRating\", \"RelationshipSatisfaction\", \"StockOptionLevel\", \"TotalWorkingYears\", \"TrainingTimesLastYear\", \"WorkLifeBalance\", \"YearsAtCompany\", \"YearsInCurrentRole\", \"YearsSinceLastPromotion\", \"YearsWithCurrManager\"], \"z\": [[null, null, null, null, null, null, null, null, null, null, null, null, null, null, null, null, null, null, null, null, null, null, null, null], [null, 1.0, -0.004985337352552674, -0.01680643320915765, -0.050990433654478126, 0.018354854300385467, 0.023381421528320238, 0.04613487399781132, 0.0029663348551117142, 0.03057100783714411, 0.007707058872006039, -0.032181601522581774, 0.03815343427940969, 0.022703677496334916, 0.0004732963271882408, 0.007846030957248321, 0.042142796377206686, 0.014514738706320859, 0.002452542712083261, -0.037848051005781515, -0.034054767568547466, 0.009932014960094184, -0.03322898478777197, -0.026363178228837648], [null, -0.004985337352552674, 1.0, 0.021041825624123364, 0.032916407199243866, -0.016075326996493465, 0.031130585611766015, 0.008783279886444232, 0.00530273055449623, -0.0036688391677204214, -0.01701444474527587, 0.027472863548884053, -0.029250804197292986, 0.04023537745919304, 0.02710961848197604, 0.006557474646578711, 0.044871998853181376, 0.004628425863783853, -0.036942234339916, -0.02655600410656897, 0.009507719899011271, 0.018844999108945663, 0.010028835943115365, 0.014406048430629939], [null, -0.01680643320915765, 0.021041825624123364, 1.0, 0.042070093029328424, -0.027128313256511653, 0.016774828880960865, 0.042437634318608114, 0.10158888624850132, -0.011296116736574009, 0.09496067704188856, -0.026084197160047597, 0.12631656017668416, -0.011110940860654199, -0.024538791164833422, -0.009118376696381497, 0.01842222020401694, 0.14827969653887266, -0.025100241137933486, 0.009819189309781843, 0.06911369603133874, 0.060235554120695735, 0.05425433359132035, 0.06906537825528397], [null, -0.050990433654478126, 0.032916407199243866, 0.042070093029328424, 1.0, 0.017620802485588, 0.035179212418711185, -0.006887922987035419, -0.018519193974228312, -0.046246734939416716, -0.014828515873784741, 0.012648229168459414, -0.001251032039801599, -0.012943995546151018, -0.0203588251469522, -0.06986141146763623, 0.06222669251362312, -0.014365198461300408, 0.02360316959192501, 0.010308641437966677, -0.011240463708114035, -0.008416311998425857, -0.009019064206633747, -0.009196645292770457], [null, 0.018354854300385467, -0.016075326996493465, -0.027128313256511653, 0.017620802485588, 1.0, -0.04985695620300049, -0.008277598171759227, 0.001211699448913975, -0.006784352599075191, -0.006259087754780221, 0.03759962286571541, 0.012594323218943297, -0.03170119524179215, -0.029547952297681358, 0.0076653835410744765, 0.0034321577550576604, -0.0026930703885341364, -0.019359308347132335, 0.027627295460115407, 0.0014575491911166178, 0.018007460142878566, 0.016193605568453423, -0.0049987226281075076], [null, 0.023381421528320238, 0.031130585611766015, 0.016774828880960865, 0.035179212418711185, -0.04985695620300049, 1.0, 0.04286064097152996, -0.027853486405547332, -0.07133462437378851, -0.015794304380892906, -0.015296749550649706, 0.022156883390196815, -0.009061986253740113, -0.0021716974278102176, 0.0013304527859505607, 0.05026339906511977, -0.002333681823322244, -0.008547685209270621, -0.004607233750264436, -0.019581616209121213, -0.02410622020878486, -0.02671558606433533, -0.020123200184066038], [null, 0.04613487399781132, 0.008783279886444232, 0.042437634318608114, -0.006887922987035419, -0.008277598171759227, 0.04286064097152996, 1.0, -0.012629882671190917, -0.02147591033530702, -0.015271490778732858, -0.016322079053317184, 0.01501241324311095, -0.017204572244480576, -0.029071333439070115, 0.03429682061119727, 0.021522640378023945, -0.005533182057407529, -0.015337825759428998, -0.014616593162761336, -0.02135542697962983, 0.008716963497611708, -0.024184292365178967, 0.025975807949088905], [null, 0.0029663348551117142, 0.00530273055449623, 0.10158888624850132, -0.018519193974228312, 0.001211699448913975, -0.027853486405547332, -0.012629882671190917, 1.0, -0.0019437080267456803, 0.950299913479854, 0.039562951045684296, 0.14250112381048835, -0.03473049227941859, -0.021222082108856632, 0.021641510532591626, 0.013983910528615518, 0.7822078045362802, -0.01819055019354957, 0.03781774559666627, 0.5347386873756353, 0.3894467328766716, 0.35388534696410395, 0.3752806077657263], [null, 0.03057100783714411, -0.0036688391677204214, -0.011296116736574009, -0.046246734939416716, -0.006784352599075191, -0.07133462437378851, -0.02147591033530702, -0.0019437080267456803, 1.0, -0.007156742355912731, 0.0006439169427039258, -0.05569942601274601, 0.020002039364081937, 0.0022971970637801426, -0.012453593161926874, 0.01069022612075585, -0.02018507268501687, -0.005779334958609058, -0.019458710212974534, -0.003802627948288062, -0.0023047852298301056, -0.018213567810190918, -0.02765621388428996], [null, 0.007707058872006039, -0.01701444474527587, 0.09496067704188856, -0.014828515873784741, -0.006259087754780221, -0.015794304380892906, -0.015271490778732858, 0.950299913479854, -0.007156742355912731, 1.0, 0.034813626134121846, 0.14951521598969764, -0.027268586440314498, -0.017120138237390704, 0.025873436137557375, 0.005407676696812226, 0.7728932462543548, -0.021736276823893293, 0.030683081556940366, 0.5142848257331964, 0.36381766692870654, 0.34497763816542787, 0.3440788832587207], [null, -0.032181601522581774, 0.027472863548884053, -0.026084197160047597, 0.012648229168459414, 0.03759962286571541, -0.015296749550649706, -0.016322079053317184, 0.039562951045684296, 0.0006439169427039258, 0.034813626134121846, 1.0, 0.017521353415571556, -0.006429345946711349, -0.00981142848936072, -0.004085329337519465, -0.034322830206661034, 0.026442471176015413, 0.0014668806322857696, 0.007963157516976974, -0.02365510670617723, -0.012814874370471655, 0.0015667995146762359, -0.036745905336769295], [null, 0.03815343427940969, -0.029250804197292986, 0.12631656017668416, -0.001251032039801599, 0.012594323218943297, 0.022156883390196815, 0.01501241324311095, 0.14250112381048835, -0.05569942601274601, 0.14951521598969764, 0.017521353415571556, 1.0, -0.010238309359925531, -0.014094872753535341, 0.052733048564885456, 0.03007547509689753, 0.23763858978479374, -0.06605407172783631, -0.008365684790058657, -0.11842134024259048, -0.09075393370080816, -0.03681389238350813, -0.11031915543773214], [null, 0.022703677496334916, 0.04023537745919304, -0.011110940860654199, -0.012943995546151018, -0.03170119524179215, -0.009061986253740113, -0.017204572244480576, -0.03473049227941859, 0.020002039364081937, -0.027268586440314498, -0.006429345946711349, -0.010238309359925531, 1.0, 0.7735499964012668, -0.0404900810570771, 0.00752774782052024, -0.02060848761769149, -0.005221012351720988, -0.0032796360093679373, -0.03599126243195386, -0.0015200265442777384, -0.022154312598866084, -0.011985248472361218], [null, 0.0004732963271882408, 0.02710961848197604, -0.024538791164833422, -0.0203588251469522, -0.029547952297681358, -0.0021716974278102176, -0.029071333439070115, -0.021222082108856632, 0.0022971970637801426, -0.017120138237390704, -0.00981142848936072, -0.014094872753535341, 0.7735499964012668, 1.0, -0.03135145544245493, 0.003506471614809925, 0.006743667905952884, -0.015578881739137221, 0.002572361317682325, 0.003435126115923952, 0.03498626040719472, 0.017896066144799612, 0.022827168908479786], [null, 0.007846030957248321, 0.006557474646578711, -0.009118376696381497, -0.06986141146763623, 0.0076653835410744765, 0.0013304527859505607, 0.03429682061119727, 0.021641510532591626, -0.012453593161926874, 0.025873436137557375, -0.004085329337519465, 0.052733048564885456, -0.0404900810570771, -0.03135145544245493, 1.0, -0.04595249071656096, 0.02405429182134115, 0.0024965263921170973, 0.01960440570396862, 0.019366786877455352, -0.015122914881937524, 0.033492502069353614, -0.0008674968446255921], [null, 0.042142796377206686, 0.044871998853181376, 0.01842222020401694, 0.06222669251362312, 0.0034321577550576604, 0.05026339906511977, 0.021522640378023945, 0.013983910528615518, 0.01069022612075585, 0.005407676696812226, -0.034322830206661034, 0.03007547509689753, 0.00752774782052024, 0.003506471614809925, -0.04595249071656096, 1.0, 0.01013596931890164, 0.011274069611249013, 0.004128730002871822, 0.015058008028094429, 0.05081787275393108, 0.014352184864355582, 0.02469822656302997], [null, 0.014514738706320859, 0.004628425863783853, 0.14827969653887266, -0.014365198461300408, -0.0026930703885341364, -0.002333681823322244, -0.005533182057407529, 0.7822078045362802, -0.02018507268501687, 0.7728932462543548, 0.026442471176015413, 0.23763858978479374, -0.02060848761769149, 0.006743667905952884, 0.02405429182134115, 0.01013596931890164, 1.0, -0.03566157127961898, 0.0010076456218964744, 0.6281331552682479, 0.4603646380118082, 0.40485775850255995, 0.4591883970831438], [null, 0.002452542712083261, -0.036942234339916, -0.025100241137933486, 0.02360316959192501, -0.019359308347132335, -0.008547685209270621, -0.015337825759428998, -0.01819055019354957, -0.005779334958609058, -0.021736276823893293, 0.0014668806322857696, -0.06605407172783631, -0.005221012351720988, -0.015578881739137221, 0.0024965263921170973, 0.011274069611249013, -0.03566157127961898, 1.0, 0.028072206603628903, 0.003568665678427497, -0.005737504337956901, -0.00206653603800598, -0.0040955260212261965], [null, -0.037848051005781515, -0.02655600410656897, 0.009819189309781843, 0.010308641437966677, 0.027627295460115407, -0.004607233750264436, -0.014616593162761336, 0.03781774559666627, -0.019458710212974534, 0.030683081556940366, 0.007963157516976974, -0.008365684790058657, -0.0032796360093679373, 0.002572361317682325, 0.01960440570396862, 0.004128730002871822, 0.0010076456218964744, 0.028072206603628903, 1.0, 0.012089185354581271, 0.04985649792220411, 0.008941249141234248, 0.002759440242340434], [null, -0.034054767568547466, 0.009507719899011271, 0.06911369603133874, -0.011240463708114035, 0.0014575491911166178, -0.019581616209121213, -0.02135542697962983, 0.5347386873756353, -0.003802627948288062, 0.5142848257331964, -0.02365510670617723, -0.11842134024259048, -0.03599126243195386, 0.003435126115923952, 0.019366786877455352, 0.015058008028094429, 0.6281331552682479, 0.003568665678427497, 0.012089185354581271, 1.0, 0.7587537366134616, 0.618408865217602, 0.7692124251006991], [null, 0.009932014960094184, 0.018844999108945663, 0.060235554120695735, -0.008416311998425857, 0.018007460142878566, -0.02410622020878486, 0.008716963497611708, 0.3894467328766716, -0.0023047852298301056, 0.36381766692870654, -0.012814874370471655, -0.09075393370080816, -0.0015200265442777384, 0.03498626040719472, -0.015122914881937524, 0.05081787275393108, 0.4603646380118082, -0.005737504337956901, 0.04985649792220411, 0.7587537366134616, 1.0, 0.5480562476995158, 0.7143647616385903], [null, -0.03322898478777197, 0.010028835943115365, 0.05425433359132035, -0.009019064206633747, 0.016193605568453423, -0.02671558606433533, -0.024184292365178967, 0.35388534696410395, -0.018213567810190918, 0.34497763816542787, 0.0015667995146762359, -0.03681389238350813, -0.022154312598866084, 0.017896066144799612, 0.033492502069353614, 0.014352184864355582, 0.40485775850255995, -0.00206653603800598, 0.008941249141234248, 0.618408865217602, 0.5480562476995158, 1.0, 0.5102236357788096], [null, -0.026363178228837648, 0.014406048430629939, 0.06906537825528397, -0.009196645292770457, -0.0049987226281075076, -0.020123200184066038, 0.025975807949088905, 0.3752806077657263, -0.02765621388428996, 0.3440788832587207, -0.036745905336769295, -0.11031915543773214, -0.011985248472361218, 0.022827168908479786, -0.0008674968446255921, 0.02469822656302997, 0.4591883970831438, -0.0040955260212261965, 0.002759440242340434, 0.7692124251006991, 0.7143647616385903, 0.5102236357788096, 1.0]], \"type\": \"heatmap\"}], {\"width\": 900, \"yaxis\": {\"ticks\": \"\"}, \"title\": \"Correlation of numerical features\", \"xaxis\": {\"nticks\": 36, \"ticks\": \"\"}, \"height\": 700}, {\"linkText\": \"Export to plot.ly\", \"showLink\": true})});</script>"
                    }
                }
            ], 
            "execution_count": 18, 
            "source": "import numpy as np\nimport pandas\nfrom pandas import DataFrame, Series\nimport statsmodels.formula.api as sm\nfrom sklearn.linear_model import LinearRegression\nimport scipy, scipy.stats\n#creating a list of only numerical values\nnumerical = [u'Age', u'DailyRate', u'DistanceFromHome', u'Education', u'EmployeeNumber', u'EnvironmentSatisfaction',\n       u'HourlyRate', u'JobInvolvement', u'JobLevel', u'JobSatisfaction',\n       u'MonthlyIncome', u'MonthlyRate', u'NumCompaniesWorked',\n       u'PercentSalaryHike', u'PerformanceRating', u'RelationshipSatisfaction',\n       u'StockOptionLevel', u'TotalWorkingYears',\n       u'TrainingTimesLastYear', u'WorkLifeBalance', u'YearsAtCompany',\n       u'YearsInCurrentRole', u'YearsSinceLastPromotion',\n       u'YearsWithCurrManager']\nattrition= attrition.reindex(columns=numerical)\ndata = [go.Heatmap(z= attrition[numerical].astype(float).corr().values, # Generating correlation\n        x=attrition[numerical].columns.values,\n        y=attrition[numerical].columns.values) ]\nlayout = go.Layout(\n    title='Correlation of numerical features',\n    xaxis = dict(ticks='', nticks=36),\n    yaxis = dict(ticks='' ),\n    width = 900, height = 700,\n)\nfig = go.Figure(data=data, layout=layout)\npy.iplot(fig, filename='labelled-heatmap')"
        }, 
        {
            "metadata": {}, 
            "cell_type": "markdown", 
            "source": "# High Correlations\nThe purpose of showing it is to verify that we need to do PCA in the future to find the most relevant columns/ features in the dataset "
        }, 
        {
            "metadata": {
                "collapsed": false
            }, 
            "cell_type": "code", 
            "outputs": [
                {
                    "metadata": {}, 
                    "output_type": "execute_result", 
                    "execution_count": 19, 
                    "data": {
                        "text/html": "<div>\n<table border=\"1\" class=\"dataframe\">\n  <thead>\n    <tr style=\"text-align: right;\">\n      <th></th>\n      <th>PerformanceRating</th>\n      <th>PercentSalaryHike</th>\n    </tr>\n  </thead>\n  <tbody>\n    <tr>\n      <th>PerformanceRating</th>\n      <td>1.00000</td>\n      <td>0.77355</td>\n    </tr>\n    <tr>\n      <th>PercentSalaryHike</th>\n      <td>0.77355</td>\n      <td>1.00000</td>\n    </tr>\n  </tbody>\n</table>\n</div>", 
                        "text/plain": "                   PerformanceRating  PercentSalaryHike\nPerformanceRating            1.00000            0.77355\nPercentSalaryHike            0.77355            1.00000"
                    }
                }
            ], 
            "execution_count": 19, 
            "source": "attrition.loc[:,['PerformanceRating','PercentSalaryHike']].corr()"
        }, 
        {
            "metadata": {
                "collapsed": false
            }, 
            "cell_type": "code", 
            "outputs": [
                {
                    "metadata": {}, 
                    "output_type": "execute_result", 
                    "execution_count": 20, 
                    "data": {
                        "text/html": "<div>\n<table border=\"1\" class=\"dataframe\">\n  <thead>\n    <tr style=\"text-align: right;\">\n      <th></th>\n      <th>YearsWithCurrManager</th>\n      <th>YearsAtCompany</th>\n    </tr>\n  </thead>\n  <tbody>\n    <tr>\n      <th>YearsWithCurrManager</th>\n      <td>1.000000</td>\n      <td>0.769212</td>\n    </tr>\n    <tr>\n      <th>YearsAtCompany</th>\n      <td>0.769212</td>\n      <td>1.000000</td>\n    </tr>\n  </tbody>\n</table>\n</div>", 
                        "text/plain": "                      YearsWithCurrManager  YearsAtCompany\nYearsWithCurrManager              1.000000        0.769212\nYearsAtCompany                    0.769212        1.000000"
                    }
                }
            ], 
            "execution_count": 20, 
            "source": "attrition.loc[:,['YearsWithCurrManager','YearsAtCompany']].corr()"
        }, 
        {
            "metadata": {
                "collapsed": false
            }, 
            "cell_type": "code", 
            "outputs": [
                {
                    "metadata": {}, 
                    "output_type": "execute_result", 
                    "execution_count": 21, 
                    "data": {
                        "text/html": "<div>\n<table border=\"1\" class=\"dataframe\">\n  <thead>\n    <tr style=\"text-align: right;\">\n      <th></th>\n      <th>YearsWithCurrManager</th>\n      <th>YearsInCurrentRole</th>\n    </tr>\n  </thead>\n  <tbody>\n    <tr>\n      <th>YearsWithCurrManager</th>\n      <td>1.000000</td>\n      <td>0.714365</td>\n    </tr>\n    <tr>\n      <th>YearsInCurrentRole</th>\n      <td>0.714365</td>\n      <td>1.000000</td>\n    </tr>\n  </tbody>\n</table>\n</div>", 
                        "text/plain": "                      YearsWithCurrManager  YearsInCurrentRole\nYearsWithCurrManager              1.000000            0.714365\nYearsInCurrentRole                0.714365            1.000000"
                    }
                }
            ], 
            "execution_count": 21, 
            "source": "attrition.loc[:,['YearsWithCurrManager','YearsInCurrentRole']].corr()"
        }, 
        {
            "metadata": {
                "collapsed": false
            }, 
            "cell_type": "code", 
            "outputs": [
                {
                    "metadata": {}, 
                    "output_type": "execute_result", 
                    "execution_count": 22, 
                    "data": {
                        "text/html": "<div>\n<table border=\"1\" class=\"dataframe\">\n  <thead>\n    <tr style=\"text-align: right;\">\n      <th></th>\n      <th>YearsAtCompany</th>\n      <th>YearsInCurrentRole</th>\n    </tr>\n  </thead>\n  <tbody>\n    <tr>\n      <th>YearsAtCompany</th>\n      <td>1.000000</td>\n      <td>0.758754</td>\n    </tr>\n    <tr>\n      <th>YearsInCurrentRole</th>\n      <td>0.758754</td>\n      <td>1.000000</td>\n    </tr>\n  </tbody>\n</table>\n</div>", 
                        "text/plain": "                    YearsAtCompany  YearsInCurrentRole\nYearsAtCompany            1.000000            0.758754\nYearsInCurrentRole        0.758754            1.000000"
                    }
                }
            ], 
            "execution_count": 22, 
            "source": "attrition.loc[:,['YearsAtCompany','YearsInCurrentRole']].corr()\n"
        }, 
        {
            "metadata": {
                "collapsed": false
            }, 
            "cell_type": "code", 
            "outputs": [], 
            "execution_count": 161, 
            "source": "df=attrition.copy()"
        }, 
        {
            "metadata": {}, 
            "cell_type": "markdown", 
            "source": "# Finding the most Important Features in the dataset"
        }, 
        {
            "metadata": {}, 
            "cell_type": "markdown", 
            "source": "## Getting Eigenvalues, and Eigenvectors"
        }, 
        {
            "metadata": {
                "collapsed": false
            }, 
            "cell_type": "code", 
            "outputs": [], 
            "execution_count": 26, 
            "source": "# Getting The most Important Features of the dataset\nimport pandas as pd\nX= d.ix[:, d.columns != 'Attrition_numerical'].values\ny = d.ix[:,-1].values\nfrom sklearn.preprocessing import StandardScaler\nX_std = StandardScaler().fit_transform(X)          # Standardizing the numerical columns to remove scalability effects\nimport numpy as np\nmean_vec = np.mean(X_std, axis=0)\ncov_mat = (X_std - mean_vec).T.dot((X_std - mean_vec)) / (X_std.shape[0]-1)   #Calculating Covariance matrix\n#print('NumPy covariance matrix: \\n%s' %np.cov(X_std.T))\n# Getting the eigenvalues and the eigenvectors for PCA analysis\ncov_mat = np.cov(X_std.T)\neig_vals, eig_vecs = np.linalg.eig(cov_mat)   \n\n#print('Eigenvectors \\n%s' %eig_vecs)\n#print('\\nEigenvalues \\n%s' %eig_vals)\n"
        }, 
        {
            "metadata": {}, 
            "cell_type": "markdown", 
            "source": "## Methods to find most important Features"
        }, 
        {
            "metadata": {}, 
            "cell_type": "markdown", 
            "source": "### Method 1 : Discard all Features which have eigenvalues less than 1\n"
        }, 
        {
            "metadata": {
                "collapsed": false
            }, 
            "cell_type": "code", 
            "outputs": [
                {
                    "name": "stdout", 
                    "output_type": "stream", 
                    "text": "\nEigenvalues \n[ 4.6745871   1.84670402  1.77175378  1.67942949  0.04712242  0.14124955\n  0.20131863  0.22433458  0.27937593  0.3266856   0.51840561  0.53395932\n  0.74279885  1.17563535  1.15256151  0.84603212  0.87936965  1.10140467\n  1.07550891  1.06555275  0.90690682  0.92143365  0.91490819  0.96452708\n  0.97973287  1.02565574  1.01831216  1.00379423]\n"
                }
            ], 
            "execution_count": 27, 
            "source": "print('\\nEigenvalues \\n%s' %eig_vals)"
        }, 
        {
            "metadata": {}, 
            "cell_type": "markdown", 
            "source": "We have 15 factors whose eigenvalues are less than 1. How ever there are 5 factors whose eigenvalues are greater than 0.9. Hence this method shall not be implemented."
        }, 
        {
            "metadata": {}, 
            "cell_type": "markdown", 
            "source": "### Method 2 : Plotting Scree Plot"
        }, 
        {
            "metadata": {
                "collapsed": false
            }, 
            "cell_type": "code", 
            "outputs": [
                {
                    "metadata": {}, 
                    "output_type": "execute_result", 
                    "execution_count": 65, 
                    "data": {
                        "text/plain": "<matplotlib.collections.PathCollection at 0x7f9792d77e50>"
                    }
                }, 
                {
                    "metadata": {}, 
                    "output_type": "display_data", 
                    "data": {
                        "image/png": "[encoded data removed]", 
                        "text/plain": "<matplotlib.figure.Figure at 0x7f9792dfad10>"
                    }
                }
            ], 
            "execution_count": 65, 
            "source": "import matplotlib.pyplot as plt\nimport numpy as np\nx=[i for i in range(28)]\ne=np.sort(eig_vals)[::-1]\neigenvalues= e.tolist()\nplt.scatter(x,eigenvalues)"
        }, 
        {
            "metadata": {}, 
            "cell_type": "markdown", 
            "source": "The scree plot suggests that there are 2 elbows, one at 4, another at 22 as the slope levels off twice. It gives us some idea about number of features to be selected but to be sure we use the third method"
        }, 
        {
            "metadata": {}, 
            "cell_type": "markdown", 
            "source": "### Method 3 Getting Variance Explained by each Feature"
        }, 
        {
            "metadata": {
                "collapsed": false
            }, 
            "cell_type": "code", 
            "outputs": [
                {
                    "metadata": {}, 
                    "output_type": "execute_result", 
                    "execution_count": 66, 
                    "data": {
                        "text/plain": "[16.683596829110783,\n 6.590884856139982,\n 6.323387535765133,\n 5.9938822044592195,\n 4.1958414127334605,\n 4.1134908942959232,\n 3.9309122030966246,\n 3.8384902601591739,\n 3.8029567171787266,\n 3.6605643531560581,\n 3.6343551248031245,\n 3.582540630488837,\n 3.4966656690209068,\n 3.4423961987289315,\n 3.2885958048230033,\n 3.2653064275037815,\n 3.2367495517219784,\n 3.1384694411324126,\n 3.0194878015746314,\n 2.6510483667396509,\n 1.9057002814440127,\n 1.8501891308078882,\n 1.165940603413312,\n 0.99709241481019861,\n 0.80064989548965826,\n 0.71850599927596204,\n 0.50411952066000432,\n 0.16817987146663949]"
                    }
                }
            ], 
            "execution_count": 66, 
            "source": "# Make a list of (eigenvalue, eigenvector) tuples\neig_pairs = [(np.abs(eig_vals[i]), eig_vecs[:,i]) for i in range(len(eig_vals))]\n\n# Sort the (eigenvalue, eigenvector) tuples from high to low\neig_pairs.sort()\neig_pairs.reverse()\n\n#Getting Variance Explained by each of the categorical column\ntot = sum(eig_vals)\nvar_exp = [(i / tot)*100 for i in sorted(eig_vals, reverse=True)]\nvar_exp\n"
        }, 
        {
            "metadata": {}, 
            "cell_type": "markdown", 
            "source": "### Plot of Variance Explained by each Principal Component"
        }, 
        {
            "metadata": {
                "collapsed": false
            }, 
            "cell_type": "code", 
            "outputs": [
                {
                    "metadata": {}, 
                    "output_type": "execute_result", 
                    "execution_count": 67, 
                    "data": {
                        "text/plain": "<matplotlib.axes._subplots.AxesSubplot at 0x7f9792f28050>"
                    }
                }, 
                {
                    "metadata": {}, 
                    "output_type": "display_data", 
                    "data": {
                        "image/png": "[encoded data removed]", 
                        "text/plain": "<matplotlib.figure.Figure at 0x7f97932e2b90>"
                    }
                }
            ], 
            "execution_count": 67, 
            "source": "#sns.set_context(\"notebook\")\nsns.barplot(x=['PC %s' %i for i in sorted(range(1,29))], y= var_exp)"
        }, 
        {
            "metadata": {}, 
            "cell_type": "markdown", 
            "source": "## Cumulative Variance explained by each Principal Component"
        }, 
        {
            "metadata": {
                "collapsed": false
            }, 
            "cell_type": "code", 
            "outputs": [
                {
                    "metadata": {}, 
                    "output_type": "execute_result", 
                    "execution_count": 69, 
                    "data": {
                        "text/plain": "<matplotlib.axes._subplots.AxesSubplot at 0x7f97933dce10>"
                    }
                }, 
                {
                    "metadata": {}, 
                    "output_type": "display_data", 
                    "data": {
                        "image/png": "[encoded data removed]", 
                        "text/plain": "<matplotlib.figure.Figure at 0x7f9792d3e1d0>"
                    }
                }
            ], 
            "execution_count": 69, 
            "source": "cum_var_exp = np.cumsum(var_exp)\n#cum_var_exp\nsns.barplot(x=['PC %s' %i for i in range(1,29)], y=cum_var_exp)\n#plt.show()"
        }, 
        {
            "metadata": {
                "collapsed": false
            }, 
            "cell_type": "code", 
            "outputs": [
                {
                    "metadata": {}, 
                    "output_type": "execute_result", 
                    "execution_count": 70, 
                    "data": {
                        "text/plain": "array([  16.68359683,   23.27448169,   29.59786922,   35.59175143,\n         39.78759284,   43.90108373,   47.83199594,   51.6704862 ,\n         55.47344291,   59.13400727,   62.76836239,   66.35090302,\n         69.84756869,   73.28996489,   76.57856069,   79.84386712,\n         83.08061667,   86.21908611,   89.23857392,   91.88962228,\n         93.79532256,   95.64551169,   96.8114523 ,   97.80854471,\n         98.60919461,   99.32770061,   99.83182013,  100.        ])"
                    }
                }
            ], 
            "execution_count": 70, 
            "source": "cum_var_exp"
        }, 
        {
            "metadata": {}, 
            "cell_type": "markdown", 
            "source": " We will divide our features into 2 pca features\n 85% variability explained which is explained by 18 Principal Components which is confirmed by the graph. So we will use number of components as 18\n 90% variability explained which is explained by 20 Principal Components which is confirmed by the graph. So we will use number of components as 20\n We will compare the accuracy on the models using these 2 divisions"
        }, 
        {
            "metadata": {}, 
            "cell_type": "markdown", 
            "source": "# Reopening the file in Spark"
        }, 
        {
            "metadata": {
                "collapsed": true
            }, 
            "cell_type": "code", 
            "outputs": [], 
            "execution_count": 1, 
            "source": "# The code was removed by DSX for sharing."
        }, 
        {
            "metadata": {}, 
            "cell_type": "markdown", 
            "source": "We will remove all the redundant colums as done before as all of the rows in columns [\"Over18\", \"StandardHours\", \"EmployeeCount\"] have no distinct values. Also Employee count does not matter in this data as it is a figure from 1 :1500"
        }, 
        {
            "metadata": {
                "collapsed": false
            }, 
            "cell_type": "code", 
            "outputs": [
                {
                    "name": "stdout", 
                    "output_type": "stream", 
                    "text": "root\n |-- Age: integer (nullable = true)\n |-- Attrition: string (nullable = true)\n |-- BusinessTravel: string (nullable = true)\n |-- DailyRate: integer (nullable = true)\n |-- Department: string (nullable = true)\n |-- DistanceFromHome: integer (nullable = true)\n |-- Education: integer (nullable = true)\n |-- EducationField: string (nullable = true)\n |-- EnvironmentSatisfaction: integer (nullable = true)\n |-- Gender: string (nullable = true)\n |-- HourlyRate: integer (nullable = true)\n |-- JobInvolvement: integer (nullable = true)\n |-- JobLevel: integer (nullable = true)\n |-- JobRole: string (nullable = true)\n |-- JobSatisfaction: integer (nullable = true)\n |-- MaritalStatus: string (nullable = true)\n |-- MonthlyIncome: integer (nullable = true)\n |-- MonthlyRate: integer (nullable = true)\n |-- NumCompaniesWorked: integer (nullable = true)\n |-- OverTime: string (nullable = true)\n |-- PercentSalaryHike: integer (nullable = true)\n |-- PerformanceRating: integer (nullable = true)\n |-- RelationshipSatisfaction: integer (nullable = true)\n |-- StockOptionLevel: integer (nullable = true)\n |-- TotalWorkingYears: integer (nullable = true)\n |-- TrainingTimesLastYear: integer (nullable = true)\n |-- WorkLifeBalance: integer (nullable = true)\n |-- YearsAtCompany: integer (nullable = true)\n |-- YearsInCurrentRole: integer (nullable = true)\n |-- YearsSinceLastPromotion: integer (nullable = true)\n |-- YearsWithCurrManager: integer (nullable = true)\n\n"
                }
            ], 
            "execution_count": 2, 
            "source": "remove= [\"Over18\", \"StandardHours\", \"EmployeeCount\", \"EmployeeNumber\"]\ndata= data.select([column for column in data.columns if column not in remove])\ndata.printSchema()"
        }, 
        {
            "metadata": {}, 
            "cell_type": "markdown", 
            "source": "## Tuning the data"
        }, 
        {
            "metadata": {}, 
            "cell_type": "markdown", 
            "source": "We will use StringIndexer and OneHotEncoder to index the categorical columns and convert them into sparsevectors using OneHotEncoder\nWe will use Vector Assembler to assemble the numerical features with the categorical ones\nStandard Scaler is used to normalize the Features to remove scalability defects with mean 0 and standard deviation 1 \nPipeline is used to organize them at one place"
        }, 
        {
            "metadata": {
                "scrolled": true, 
                "collapsed": false
            }, 
            "cell_type": "code", 
            "outputs": [
                {
                    "name": "stdout", 
                    "output_type": "stream", 
                    "text": "root\n |-- label: double (nullable = true)\n |-- features: vector (nullable = true)\n |-- std_features: vector (nullable = true)\n\n"
                }, 
                {
                    "metadata": {}, 
                    "output_type": "execute_result", 
                    "execution_count": 3, 
                    "data": {
                        "text/html": "<div>\n<table border=\"1\" class=\"dataframe\">\n  <thead>\n    <tr style=\"text-align: right;\">\n      <th></th>\n      <th>label</th>\n      <th>features</th>\n      <th>std_features</th>\n    </tr>\n  </thead>\n  <tbody>\n    <tr>\n      <th>0</th>\n      <td>1</td>\n      <td>(1.0, 0.0, 0.0, 1.0, 1.0, 0.0, 0.0, 0.0, 0.0, ...</td>\n      <td>(2.20198052463, 0.0, 0.0, 2.17446367769, 2.030...</td>\n    </tr>\n    <tr>\n      <th>1</th>\n      <td>0</td>\n      <td>[0.0, 1.0, 1.0, 0.0, 1.0, 0.0, 0.0, 0.0, 0.0, ...</td>\n      <td>[0.0, 2.55628610223, 2.10111092176, 0.0, 2.030...</td>\n    </tr>\n    <tr>\n      <th>2</th>\n      <td>1</td>\n      <td>(1.0, 0.0, 1.0, 0.0, 0.0, 0.0, 0.0, 0.0, 1.0, ...</td>\n      <td>(2.20198052463, 0.0, 2.10111092176, 0.0, 0.0, ...</td>\n    </tr>\n    <tr>\n      <th>3</th>\n      <td>0</td>\n      <td>(0.0, 1.0, 1.0, 0.0, 1.0, 0.0, 0.0, 0.0, 0.0, ...</td>\n      <td>(0.0, 2.55628610223, 2.10111092176, 0.0, 2.030...</td>\n    </tr>\n    <tr>\n      <th>4</th>\n      <td>0</td>\n      <td>[1.0, 0.0, 1.0, 0.0, 0.0, 1.0, 0.0, 0.0, 0.0, ...</td>\n      <td>[2.20198052463, 0.0, 2.10111092176, 0.0, 0.0, ...</td>\n    </tr>\n    <tr>\n      <th>5</th>\n      <td>0</td>\n      <td>(0.0, 1.0, 1.0, 0.0, 1.0, 0.0, 0.0, 0.0, 0.0, ...</td>\n      <td>(0.0, 2.55628610223, 2.10111092176, 0.0, 2.030...</td>\n    </tr>\n    <tr>\n      <th>6</th>\n      <td>0</td>\n      <td>(1.0, 0.0, 1.0, 0.0, 0.0, 1.0, 0.0, 0.0, 0.0, ...</td>\n      <td>(2.20198052463, 0.0, 2.10111092176, 0.0, 0.0, ...</td>\n    </tr>\n    <tr>\n      <th>7</th>\n      <td>0</td>\n      <td>(1.0, 0.0, 1.0, 0.0, 1.0, 0.0, 0.0, 0.0, 0.0, ...</td>\n      <td>(2.20198052463, 0.0, 2.10111092176, 0.0, 2.030...</td>\n    </tr>\n    <tr>\n      <th>8</th>\n      <td>0</td>\n      <td>(0.0, 1.0, 1.0, 0.0, 1.0, 0.0, 0.0, 0.0, 0.0, ...</td>\n      <td>(0.0, 2.55628610223, 2.10111092176, 0.0, 2.030...</td>\n    </tr>\n    <tr>\n      <th>9</th>\n      <td>0</td>\n      <td>[1.0, 0.0, 1.0, 0.0, 0.0, 1.0, 0.0, 0.0, 0.0, ...</td>\n      <td>[2.20198052463, 0.0, 2.10111092176, 0.0, 0.0, ...</td>\n    </tr>\n    <tr>\n      <th>10</th>\n      <td>0</td>\n      <td>(1.0, 0.0, 1.0, 0.0, 0.0, 1.0, 0.0, 0.0, 0.0, ...</td>\n      <td>(2.20198052463, 0.0, 2.10111092176, 0.0, 0.0, ...</td>\n    </tr>\n    <tr>\n      <th>11</th>\n      <td>0</td>\n      <td>(1.0, 0.0, 1.0, 0.0, 1.0, 0.0, 0.0, 0.0, 0.0, ...</td>\n      <td>(2.20198052463, 0.0, 2.10111092176, 0.0, 2.030...</td>\n    </tr>\n    <tr>\n      <th>12</th>\n      <td>0</td>\n      <td>[1.0, 0.0, 1.0, 0.0, 1.0, 0.0, 0.0, 0.0, 0.0, ...</td>\n      <td>[2.20198052463, 0.0, 2.10111092176, 0.0, 2.030...</td>\n    </tr>\n    <tr>\n      <th>13</th>\n      <td>0</td>\n      <td>(1.0, 0.0, 1.0, 0.0, 0.0, 1.0, 0.0, 0.0, 0.0, ...</td>\n      <td>(2.20198052463, 0.0, 2.10111092176, 0.0, 0.0, ...</td>\n    </tr>\n    <tr>\n      <th>14</th>\n      <td>1</td>\n      <td>(1.0, 0.0, 1.0, 0.0, 1.0, 0.0, 0.0, 0.0, 0.0, ...</td>\n      <td>(2.20198052463, 0.0, 2.10111092176, 0.0, 2.030...</td>\n    </tr>\n    <tr>\n      <th>15</th>\n      <td>0</td>\n      <td>(1.0, 0.0, 1.0, 0.0, 1.0, 0.0, 0.0, 0.0, 0.0, ...</td>\n      <td>(2.20198052463, 0.0, 2.10111092176, 0.0, 2.030...</td>\n    </tr>\n    <tr>\n      <th>16</th>\n      <td>0</td>\n      <td>(1.0, 0.0, 1.0, 0.0, 1.0, 0.0, 0.0, 0.0, 0.0, ...</td>\n      <td>(2.20198052463, 0.0, 2.10111092176, 0.0, 2.030...</td>\n    </tr>\n    <tr>\n      <th>17</th>\n      <td>0</td>\n      <td>(0.0, 0.0, 1.0, 0.0, 0.0, 1.0, 0.0, 0.0, 0.0, ...</td>\n      <td>(0.0, 0.0, 2.10111092176, 0.0, 0.0, 2.15085723...</td>\n    </tr>\n    <tr>\n      <th>18</th>\n      <td>0</td>\n      <td>(1.0, 0.0, 0.0, 1.0, 1.0, 0.0, 0.0, 0.0, 0.0, ...</td>\n      <td>(2.20198052463, 0.0, 0.0, 2.17446367769, 2.030...</td>\n    </tr>\n    <tr>\n      <th>19</th>\n      <td>0</td>\n      <td>(1.0, 0.0, 1.0, 0.0, 1.0, 0.0, 0.0, 0.0, 0.0, ...</td>\n      <td>(2.20198052463, 0.0, 2.10111092176, 0.0, 2.030...</td>\n    </tr>\n    <tr>\n      <th>20</th>\n      <td>0</td>\n      <td>(0.0, 0.0, 1.0, 0.0, 0.0, 0.0, 0.0, 0.0, 1.0, ...</td>\n      <td>(0.0, 0.0, 2.10111092176, 0.0, 0.0, 0.0, 0.0, ...</td>\n    </tr>\n    <tr>\n      <th>21</th>\n      <td>1</td>\n      <td>(1.0, 0.0, 0.0, 1.0, 1.0, 0.0, 0.0, 0.0, 0.0, ...</td>\n      <td>(2.20198052463, 0.0, 0.0, 2.17446367769, 2.030...</td>\n    </tr>\n    <tr>\n      <th>22</th>\n      <td>0</td>\n      <td>(1.0, 0.0, 1.0, 0.0, 1.0, 0.0, 0.0, 0.0, 0.0, ...</td>\n      <td>(2.20198052463, 0.0, 2.10111092176, 0.0, 2.030...</td>\n    </tr>\n    <tr>\n      <th>23</th>\n      <td>0</td>\n      <td>(1.0, 0.0, 1.0, 0.0, 1.0, 0.0, 0.0, 0.0, 0.0, ...</td>\n      <td>(2.20198052463, 0.0, 2.10111092176, 0.0, 2.030...</td>\n    </tr>\n    <tr>\n      <th>24</th>\n      <td>1</td>\n      <td>[1.0, 0.0, 1.0, 0.0, 0.0, 1.0, 0.0, 0.0, 0.0, ...</td>\n      <td>[2.20198052463, 0.0, 2.10111092176, 0.0, 0.0, ...</td>\n    </tr>\n    <tr>\n      <th>25</th>\n      <td>0</td>\n      <td>(1.0, 0.0, 1.0, 0.0, 0.0, 0.0, 0.0, 0.0, 1.0, ...</td>\n      <td>(2.20198052463, 0.0, 2.10111092176, 0.0, 0.0, ...</td>\n    </tr>\n    <tr>\n      <th>26</th>\n      <td>1</td>\n      <td>(0.0, 1.0, 1.0, 0.0, 1.0, 0.0, 0.0, 0.0, 0.0, ...</td>\n      <td>(0.0, 2.55628610223, 2.10111092176, 0.0, 2.030...</td>\n    </tr>\n    <tr>\n      <th>27</th>\n      <td>0</td>\n      <td>[1.0, 0.0, 0.0, 1.0, 0.0, 0.0, 1.0, 0.0, 0.0, ...</td>\n      <td>[2.20198052463, 0.0, 0.0, 2.17446367769, 0.0, ...</td>\n    </tr>\n    <tr>\n      <th>28</th>\n      <td>0</td>\n      <td>[1.0, 0.0, 1.0, 0.0, 0.0, 1.0, 0.0, 0.0, 0.0, ...</td>\n      <td>[2.20198052463, 0.0, 2.10111092176, 0.0, 0.0, ...</td>\n    </tr>\n    <tr>\n      <th>29</th>\n      <td>0</td>\n      <td>(1.0, 0.0, 0.0, 1.0, 0.0, 0.0, 1.0, 0.0, 0.0, ...</td>\n      <td>(2.20198052463, 0.0, 0.0, 2.17446367769, 0.0, ...</td>\n    </tr>\n    <tr>\n      <th>...</th>\n      <td>...</td>\n      <td>...</td>\n      <td>...</td>\n    </tr>\n    <tr>\n      <th>1440</th>\n      <td>0</td>\n      <td>(0.0, 1.0, 1.0, 0.0, 1.0, 0.0, 0.0, 0.0, 0.0, ...</td>\n      <td>(0.0, 2.55628610223, 2.10111092176, 0.0, 2.030...</td>\n    </tr>\n    <tr>\n      <th>1441</th>\n      <td>0</td>\n      <td>(0.0, 0.0, 1.0, 0.0, 1.0, 0.0, 0.0, 0.0, 0.0, ...</td>\n      <td>(0.0, 0.0, 2.10111092176, 0.0, 2.03084314774, ...</td>\n    </tr>\n    <tr>\n      <th>1442</th>\n      <td>1</td>\n      <td>[1.0, 0.0, 1.0, 0.0, 0.0, 1.0, 0.0, 0.0, 0.0, ...</td>\n      <td>[2.20198052463, 0.0, 2.10111092176, 0.0, 0.0, ...</td>\n    </tr>\n    <tr>\n      <th>1443</th>\n      <td>0</td>\n      <td>[1.0, 0.0, 1.0, 0.0, 1.0, 0.0, 0.0, 0.0, 0.0, ...</td>\n      <td>[2.20198052463, 0.0, 2.10111092176, 0.0, 2.030...</td>\n    </tr>\n    <tr>\n      <th>1444</th>\n      <td>1</td>\n      <td>[1.0, 0.0, 1.0, 0.0, 0.0, 0.0, 0.0, 1.0, 0.0, ...</td>\n      <td>[2.20198052463, 0.0, 2.10111092176, 0.0, 0.0, ...</td>\n    </tr>\n    <tr>\n      <th>1445</th>\n      <td>0</td>\n      <td>(1.0, 0.0, 1.0, 0.0, 1.0, 0.0, 0.0, 0.0, 0.0, ...</td>\n      <td>(2.20198052463, 0.0, 2.10111092176, 0.0, 2.030...</td>\n    </tr>\n    <tr>\n      <th>1446</th>\n      <td>0</td>\n      <td>[1.0, 0.0, 0.0, 1.0, 0.0, 0.0, 1.0, 0.0, 0.0, ...</td>\n      <td>[2.20198052463, 0.0, 0.0, 2.17446367769, 0.0, ...</td>\n    </tr>\n    <tr>\n      <th>1447</th>\n      <td>0</td>\n      <td>(0.0, 0.0, 0.0, 1.0, 0.0, 0.0, 1.0, 0.0, 0.0, ...</td>\n      <td>(0.0, 0.0, 0.0, 2.17446367769, 0.0, 0.0, 3.218...</td>\n    </tr>\n    <tr>\n      <th>1448</th>\n      <td>0</td>\n      <td>(1.0, 0.0, 0.0, 1.0, 1.0, 0.0, 0.0, 0.0, 0.0, ...</td>\n      <td>(2.20198052463, 0.0, 0.0, 2.17446367769, 2.030...</td>\n    </tr>\n    <tr>\n      <th>1449</th>\n      <td>0</td>\n      <td>[1.0, 0.0, 1.0, 0.0, 0.0, 0.0, 0.0, 1.0, 0.0, ...</td>\n      <td>[2.20198052463, 0.0, 2.10111092176, 0.0, 0.0, ...</td>\n    </tr>\n    <tr>\n      <th>1450</th>\n      <td>0</td>\n      <td>(1.0, 0.0, 0.0, 0.0, 1.0, 0.0, 0.0, 0.0, 0.0, ...</td>\n      <td>(2.20198052463, 0.0, 0.0, 0.0, 2.03084314774, ...</td>\n    </tr>\n    <tr>\n      <th>1451</th>\n      <td>0</td>\n      <td>[1.0, 0.0, 0.0, 1.0, 1.0, 0.0, 0.0, 0.0, 0.0, ...</td>\n      <td>[2.20198052463, 0.0, 0.0, 2.17446367769, 2.030...</td>\n    </tr>\n    <tr>\n      <th>1452</th>\n      <td>1</td>\n      <td>(0.0, 1.0, 0.0, 1.0, 1.0, 0.0, 0.0, 0.0, 0.0, ...</td>\n      <td>(0.0, 2.55628610223, 0.0, 2.17446367769, 2.030...</td>\n    </tr>\n    <tr>\n      <th>1453</th>\n      <td>0</td>\n      <td>(1.0, 0.0, 0.0, 1.0, 0.0, 0.0, 1.0, 0.0, 0.0, ...</td>\n      <td>(2.20198052463, 0.0, 0.0, 2.17446367769, 0.0, ...</td>\n    </tr>\n    <tr>\n      <th>1454</th>\n      <td>0</td>\n      <td>(1.0, 0.0, 0.0, 1.0, 1.0, 0.0, 0.0, 0.0, 0.0, ...</td>\n      <td>(2.20198052463, 0.0, 0.0, 2.17446367769, 2.030...</td>\n    </tr>\n    <tr>\n      <th>1455</th>\n      <td>0</td>\n      <td>[1.0, 0.0, 1.0, 0.0, 1.0, 0.0, 0.0, 0.0, 0.0, ...</td>\n      <td>[2.20198052463, 0.0, 2.10111092176, 0.0, 2.030...</td>\n    </tr>\n    <tr>\n      <th>1456</th>\n      <td>0</td>\n      <td>(0.0, 1.0, 1.0, 0.0, 1.0, 0.0, 0.0, 0.0, 0.0, ...</td>\n      <td>(0.0, 2.55628610223, 2.10111092176, 0.0, 2.030...</td>\n    </tr>\n    <tr>\n      <th>1457</th>\n      <td>0</td>\n      <td>(1.0, 0.0, 1.0, 0.0, 0.0, 1.0, 0.0, 0.0, 0.0, ...</td>\n      <td>(2.20198052463, 0.0, 2.10111092176, 0.0, 0.0, ...</td>\n    </tr>\n    <tr>\n      <th>1458</th>\n      <td>0</td>\n      <td>[1.0, 0.0, 1.0, 0.0, 1.0, 0.0, 0.0, 0.0, 0.0, ...</td>\n      <td>[2.20198052463, 0.0, 2.10111092176, 0.0, 2.030...</td>\n    </tr>\n    <tr>\n      <th>1459</th>\n      <td>0</td>\n      <td>(1.0, 0.0, 1.0, 0.0, 0.0, 0.0, 0.0, 0.0, 1.0, ...</td>\n      <td>(2.20198052463, 0.0, 2.10111092176, 0.0, 0.0, ...</td>\n    </tr>\n    <tr>\n      <th>1460</th>\n      <td>0</td>\n      <td>(1.0, 0.0, 1.0, 0.0, 0.0, 1.0, 0.0, 0.0, 0.0, ...</td>\n      <td>(2.20198052463, 0.0, 2.10111092176, 0.0, 0.0, ...</td>\n    </tr>\n    <tr>\n      <th>1461</th>\n      <td>1</td>\n      <td>(1.0, 0.0, 0.0, 1.0, 0.0, 0.0, 1.0, 0.0, 0.0, ...</td>\n      <td>(2.20198052463, 0.0, 0.0, 2.17446367769, 0.0, ...</td>\n    </tr>\n    <tr>\n      <th>1462</th>\n      <td>0</td>\n      <td>(1.0, 0.0, 0.0, 1.0, 0.0, 0.0, 1.0, 0.0, 0.0, ...</td>\n      <td>(2.20198052463, 0.0, 0.0, 2.17446367769, 0.0, ...</td>\n    </tr>\n    <tr>\n      <th>1463</th>\n      <td>0</td>\n      <td>(0.0, 0.0, 1.0, 0.0, 0.0, 1.0, 0.0, 0.0, 0.0, ...</td>\n      <td>(0.0, 0.0, 2.10111092176, 0.0, 0.0, 2.15085723...</td>\n    </tr>\n    <tr>\n      <th>1464</th>\n      <td>0</td>\n      <td>(1.0, 0.0, 0.0, 1.0, 0.0, 0.0, 0.0, 0.0, 1.0, ...</td>\n      <td>(2.20198052463, 0.0, 0.0, 2.17446367769, 0.0, ...</td>\n    </tr>\n    <tr>\n      <th>1465</th>\n      <td>0</td>\n      <td>[0.0, 1.0, 1.0, 0.0, 0.0, 1.0, 0.0, 0.0, 0.0, ...</td>\n      <td>[0.0, 2.55628610223, 2.10111092176, 0.0, 0.0, ...</td>\n    </tr>\n    <tr>\n      <th>1466</th>\n      <td>0</td>\n      <td>[1.0, 0.0, 1.0, 0.0, 0.0, 1.0, 0.0, 0.0, 0.0, ...</td>\n      <td>[2.20198052463, 0.0, 2.10111092176, 0.0, 0.0, ...</td>\n    </tr>\n    <tr>\n      <th>1467</th>\n      <td>0</td>\n      <td>(1.0, 0.0, 1.0, 0.0, 1.0, 0.0, 0.0, 0.0, 0.0, ...</td>\n      <td>(2.20198052463, 0.0, 2.10111092176, 0.0, 2.030...</td>\n    </tr>\n    <tr>\n      <th>1468</th>\n      <td>0</td>\n      <td>(0.0, 1.0, 0.0, 1.0, 0.0, 1.0, 0.0, 0.0, 0.0, ...</td>\n      <td>(0.0, 2.55628610223, 0.0, 2.17446367769, 0.0, ...</td>\n    </tr>\n    <tr>\n      <th>1469</th>\n      <td>0</td>\n      <td>[1.0, 0.0, 1.0, 0.0, 0.0, 1.0, 0.0, 0.0, 0.0, ...</td>\n      <td>[2.20198052463, 0.0, 2.10111092176, 0.0, 0.0, ...</td>\n    </tr>\n  </tbody>\n</table>\n<p>1470 rows \u00d7 3 columns</p>\n</div>", 
                        "text/plain": "      label                                           features  \\\n0         1  (1.0, 0.0, 0.0, 1.0, 1.0, 0.0, 0.0, 0.0, 0.0, ...   \n1         0  [0.0, 1.0, 1.0, 0.0, 1.0, 0.0, 0.0, 0.0, 0.0, ...   \n2         1  (1.0, 0.0, 1.0, 0.0, 0.0, 0.0, 0.0, 0.0, 1.0, ...   \n3         0  (0.0, 1.0, 1.0, 0.0, 1.0, 0.0, 0.0, 0.0, 0.0, ...   \n4         0  [1.0, 0.0, 1.0, 0.0, 0.0, 1.0, 0.0, 0.0, 0.0, ...   \n5         0  (0.0, 1.0, 1.0, 0.0, 1.0, 0.0, 0.0, 0.0, 0.0, ...   \n6         0  (1.0, 0.0, 1.0, 0.0, 0.0, 1.0, 0.0, 0.0, 0.0, ...   \n7         0  (1.0, 0.0, 1.0, 0.0, 1.0, 0.0, 0.0, 0.0, 0.0, ...   \n8         0  (0.0, 1.0, 1.0, 0.0, 1.0, 0.0, 0.0, 0.0, 0.0, ...   \n9         0  [1.0, 0.0, 1.0, 0.0, 0.0, 1.0, 0.0, 0.0, 0.0, ...   \n10        0  (1.0, 0.0, 1.0, 0.0, 0.0, 1.0, 0.0, 0.0, 0.0, ...   \n11        0  (1.0, 0.0, 1.0, 0.0, 1.0, 0.0, 0.0, 0.0, 0.0, ...   \n12        0  [1.0, 0.0, 1.0, 0.0, 1.0, 0.0, 0.0, 0.0, 0.0, ...   \n13        0  (1.0, 0.0, 1.0, 0.0, 0.0, 1.0, 0.0, 0.0, 0.0, ...   \n14        1  (1.0, 0.0, 1.0, 0.0, 1.0, 0.0, 0.0, 0.0, 0.0, ...   \n15        0  (1.0, 0.0, 1.0, 0.0, 1.0, 0.0, 0.0, 0.0, 0.0, ...   \n16        0  (1.0, 0.0, 1.0, 0.0, 1.0, 0.0, 0.0, 0.0, 0.0, ...   \n17        0  (0.0, 0.0, 1.0, 0.0, 0.0, 1.0, 0.0, 0.0, 0.0, ...   \n18        0  (1.0, 0.0, 0.0, 1.0, 1.0, 0.0, 0.0, 0.0, 0.0, ...   \n19        0  (1.0, 0.0, 1.0, 0.0, 1.0, 0.0, 0.0, 0.0, 0.0, ...   \n20        0  (0.0, 0.0, 1.0, 0.0, 0.0, 0.0, 0.0, 0.0, 1.0, ...   \n21        1  (1.0, 0.0, 0.0, 1.0, 1.0, 0.0, 0.0, 0.0, 0.0, ...   \n22        0  (1.0, 0.0, 1.0, 0.0, 1.0, 0.0, 0.0, 0.0, 0.0, ...   \n23        0  (1.0, 0.0, 1.0, 0.0, 1.0, 0.0, 0.0, 0.0, 0.0, ...   \n24        1  [1.0, 0.0, 1.0, 0.0, 0.0, 1.0, 0.0, 0.0, 0.0, ...   \n25        0  (1.0, 0.0, 1.0, 0.0, 0.0, 0.0, 0.0, 0.0, 1.0, ...   \n26        1  (0.0, 1.0, 1.0, 0.0, 1.0, 0.0, 0.0, 0.0, 0.0, ...   \n27        0  [1.0, 0.0, 0.0, 1.0, 0.0, 0.0, 1.0, 0.0, 0.0, ...   \n28        0  [1.0, 0.0, 1.0, 0.0, 0.0, 1.0, 0.0, 0.0, 0.0, ...   \n29        0  (1.0, 0.0, 0.0, 1.0, 0.0, 0.0, 1.0, 0.0, 0.0, ...   \n...     ...                                                ...   \n1440      0  (0.0, 1.0, 1.0, 0.0, 1.0, 0.0, 0.0, 0.0, 0.0, ...   \n1441      0  (0.0, 0.0, 1.0, 0.0, 1.0, 0.0, 0.0, 0.0, 0.0, ...   \n1442      1  [1.0, 0.0, 1.0, 0.0, 0.0, 1.0, 0.0, 0.0, 0.0, ...   \n1443      0  [1.0, 0.0, 1.0, 0.0, 1.0, 0.0, 0.0, 0.0, 0.0, ...   \n1444      1  [1.0, 0.0, 1.0, 0.0, 0.0, 0.0, 0.0, 1.0, 0.0, ...   \n1445      0  (1.0, 0.0, 1.0, 0.0, 1.0, 0.0, 0.0, 0.0, 0.0, ...   \n1446      0  [1.0, 0.0, 0.0, 1.0, 0.0, 0.0, 1.0, 0.0, 0.0, ...   \n1447      0  (0.0, 0.0, 0.0, 1.0, 0.0, 0.0, 1.0, 0.0, 0.0, ...   \n1448      0  (1.0, 0.0, 0.0, 1.0, 1.0, 0.0, 0.0, 0.0, 0.0, ...   \n1449      0  [1.0, 0.0, 1.0, 0.0, 0.0, 0.0, 0.0, 1.0, 0.0, ...   \n1450      0  (1.0, 0.0, 0.0, 0.0, 1.0, 0.0, 0.0, 0.0, 0.0, ...   \n1451      0  [1.0, 0.0, 0.0, 1.0, 1.0, 0.0, 0.0, 0.0, 0.0, ...   \n1452      1  (0.0, 1.0, 0.0, 1.0, 1.0, 0.0, 0.0, 0.0, 0.0, ...   \n1453      0  (1.0, 0.0, 0.0, 1.0, 0.0, 0.0, 1.0, 0.0, 0.0, ...   \n1454      0  (1.0, 0.0, 0.0, 1.0, 1.0, 0.0, 0.0, 0.0, 0.0, ...   \n1455      0  [1.0, 0.0, 1.0, 0.0, 1.0, 0.0, 0.0, 0.0, 0.0, ...   \n1456      0  (0.0, 1.0, 1.0, 0.0, 1.0, 0.0, 0.0, 0.0, 0.0, ...   \n1457      0  (1.0, 0.0, 1.0, 0.0, 0.0, 1.0, 0.0, 0.0, 0.0, ...   \n1458      0  [1.0, 0.0, 1.0, 0.0, 1.0, 0.0, 0.0, 0.0, 0.0, ...   \n1459      0  (1.0, 0.0, 1.0, 0.0, 0.0, 0.0, 0.0, 0.0, 1.0, ...   \n1460      0  (1.0, 0.0, 1.0, 0.0, 0.0, 1.0, 0.0, 0.0, 0.0, ...   \n1461      1  (1.0, 0.0, 0.0, 1.0, 0.0, 0.0, 1.0, 0.0, 0.0, ...   \n1462      0  (1.0, 0.0, 0.0, 1.0, 0.0, 0.0, 1.0, 0.0, 0.0, ...   \n1463      0  (0.0, 0.0, 1.0, 0.0, 0.0, 1.0, 0.0, 0.0, 0.0, ...   \n1464      0  (1.0, 0.0, 0.0, 1.0, 0.0, 0.0, 0.0, 0.0, 1.0, ...   \n1465      0  [0.0, 1.0, 1.0, 0.0, 0.0, 1.0, 0.0, 0.0, 0.0, ...   \n1466      0  [1.0, 0.0, 1.0, 0.0, 0.0, 1.0, 0.0, 0.0, 0.0, ...   \n1467      0  (1.0, 0.0, 1.0, 0.0, 1.0, 0.0, 0.0, 0.0, 0.0, ...   \n1468      0  (0.0, 1.0, 0.0, 1.0, 0.0, 1.0, 0.0, 0.0, 0.0, ...   \n1469      0  [1.0, 0.0, 1.0, 0.0, 0.0, 1.0, 0.0, 0.0, 0.0, ...   \n\n                                           std_features  \n0     (2.20198052463, 0.0, 0.0, 2.17446367769, 2.030...  \n1     [0.0, 2.55628610223, 2.10111092176, 0.0, 2.030...  \n2     (2.20198052463, 0.0, 2.10111092176, 0.0, 0.0, ...  \n3     (0.0, 2.55628610223, 2.10111092176, 0.0, 2.030...  \n4     [2.20198052463, 0.0, 2.10111092176, 0.0, 0.0, ...  \n5     (0.0, 2.55628610223, 2.10111092176, 0.0, 2.030...  \n6     (2.20198052463, 0.0, 2.10111092176, 0.0, 0.0, ...  \n7     (2.20198052463, 0.0, 2.10111092176, 0.0, 2.030...  \n8     (0.0, 2.55628610223, 2.10111092176, 0.0, 2.030...  \n9     [2.20198052463, 0.0, 2.10111092176, 0.0, 0.0, ...  \n10    (2.20198052463, 0.0, 2.10111092176, 0.0, 0.0, ...  \n11    (2.20198052463, 0.0, 2.10111092176, 0.0, 2.030...  \n12    [2.20198052463, 0.0, 2.10111092176, 0.0, 2.030...  \n13    (2.20198052463, 0.0, 2.10111092176, 0.0, 0.0, ...  \n14    (2.20198052463, 0.0, 2.10111092176, 0.0, 2.030...  \n15    (2.20198052463, 0.0, 2.10111092176, 0.0, 2.030...  \n16    (2.20198052463, 0.0, 2.10111092176, 0.0, 2.030...  \n17    (0.0, 0.0, 2.10111092176, 0.0, 0.0, 2.15085723...  \n18    (2.20198052463, 0.0, 0.0, 2.17446367769, 2.030...  \n19    (2.20198052463, 0.0, 2.10111092176, 0.0, 2.030...  \n20    (0.0, 0.0, 2.10111092176, 0.0, 0.0, 0.0, 0.0, ...  \n21    (2.20198052463, 0.0, 0.0, 2.17446367769, 2.030...  \n22    (2.20198052463, 0.0, 2.10111092176, 0.0, 2.030...  \n23    (2.20198052463, 0.0, 2.10111092176, 0.0, 2.030...  \n24    [2.20198052463, 0.0, 2.10111092176, 0.0, 0.0, ...  \n25    (2.20198052463, 0.0, 2.10111092176, 0.0, 0.0, ...  \n26    (0.0, 2.55628610223, 2.10111092176, 0.0, 2.030...  \n27    [2.20198052463, 0.0, 0.0, 2.17446367769, 0.0, ...  \n28    [2.20198052463, 0.0, 2.10111092176, 0.0, 0.0, ...  \n29    (2.20198052463, 0.0, 0.0, 2.17446367769, 0.0, ...  \n...                                                 ...  \n1440  (0.0, 2.55628610223, 2.10111092176, 0.0, 2.030...  \n1441  (0.0, 0.0, 2.10111092176, 0.0, 2.03084314774, ...  \n1442  [2.20198052463, 0.0, 2.10111092176, 0.0, 0.0, ...  \n1443  [2.20198052463, 0.0, 2.10111092176, 0.0, 2.030...  \n1444  [2.20198052463, 0.0, 2.10111092176, 0.0, 0.0, ...  \n1445  (2.20198052463, 0.0, 2.10111092176, 0.0, 2.030...  \n1446  [2.20198052463, 0.0, 0.0, 2.17446367769, 0.0, ...  \n1447  (0.0, 0.0, 0.0, 2.17446367769, 0.0, 0.0, 3.218...  \n1448  (2.20198052463, 0.0, 0.0, 2.17446367769, 2.030...  \n1449  [2.20198052463, 0.0, 2.10111092176, 0.0, 0.0, ...  \n1450  (2.20198052463, 0.0, 0.0, 0.0, 2.03084314774, ...  \n1451  [2.20198052463, 0.0, 0.0, 2.17446367769, 2.030...  \n1452  (0.0, 2.55628610223, 0.0, 2.17446367769, 2.030...  \n1453  (2.20198052463, 0.0, 0.0, 2.17446367769, 0.0, ...  \n1454  (2.20198052463, 0.0, 0.0, 2.17446367769, 2.030...  \n1455  [2.20198052463, 0.0, 2.10111092176, 0.0, 2.030...  \n1456  (0.0, 2.55628610223, 2.10111092176, 0.0, 2.030...  \n1457  (2.20198052463, 0.0, 2.10111092176, 0.0, 0.0, ...  \n1458  [2.20198052463, 0.0, 2.10111092176, 0.0, 2.030...  \n1459  (2.20198052463, 0.0, 2.10111092176, 0.0, 0.0, ...  \n1460  (2.20198052463, 0.0, 2.10111092176, 0.0, 0.0, ...  \n1461  (2.20198052463, 0.0, 0.0, 2.17446367769, 0.0, ...  \n1462  (2.20198052463, 0.0, 0.0, 2.17446367769, 0.0, ...  \n1463  (0.0, 0.0, 2.10111092176, 0.0, 0.0, 2.15085723...  \n1464  (2.20198052463, 0.0, 0.0, 2.17446367769, 0.0, ...  \n1465  [0.0, 2.55628610223, 2.10111092176, 0.0, 0.0, ...  \n1466  [2.20198052463, 0.0, 2.10111092176, 0.0, 0.0, ...  \n1467  (2.20198052463, 0.0, 2.10111092176, 0.0, 2.030...  \n1468  (0.0, 2.55628610223, 0.0, 2.17446367769, 0.0, ...  \n1469  [2.20198052463, 0.0, 2.10111092176, 0.0, 0.0, ...  \n\n[1470 rows x 3 columns]"
                    }
                }
            ], 
            "execution_count": 3, 
            "source": "from pyspark.ml.feature import StringIndexer, VectorAssembler, OneHotEncoder, StandardScaler\nfrom pyspark.ml import Pipeline\ncategory_col = ['BusinessTravel','Department','EducationField','Gender','JobRole','MaritalStatus','OverTime']  \nstages = []\nfor category in category_col:\n    indexer = StringIndexer(inputCol=category, outputCol=category + 'new')                       #Converting into Sparse vectors for each categorical column\n    encoder = OneHotEncoder(inputCol=category +\"new\", outputCol=category +\"classVec\")\n    stages += [indexer, encoder]\n#indexed.toPandas()\nlabel= StringIndexer(inputCol = \"Attrition\", outputCol = \"label\")                                 # Converting Attrition to Label Numerical\nstages += [label]\nnumeric_Cols = [\"Age\", \"DailyRate\", \"DistanceFromHome\", \"Education\",\"EnvironmentSatisfaction\", \"HourlyRate\",\n               \"JobInvolvement\", \"JobLevel\",\"JobSatisfaction\",\n               \"MonthlyIncome\", \"MonthlyRate\", \"NumCompaniesWorked\", \"PercentSalaryHike\",\n               \"PerformanceRating\", \"RelationshipSatisfaction\", \"StockOptionLevel\",\n               \"TotalWorkingYears\", \"TrainingTimesLastYear\", \"WorkLifeBalance\", \"YearsAtCompany\", \n               \"YearsInCurrentRole\", \"YearsSinceLastPromotion\", \"YearsWithCurrManager\"]\nassemblerInputs = map(lambda c: c + \"classVec\", category_col) + numeric_Cols\n#assemblerInputs = category_col + numeric_Cols\nassembler = VectorAssembler(inputCols=assemblerInputs, outputCol=\"features\")                     # Assembling all the vectors into a vector type array\nstages += [assembler]\nscaler = StandardScaler(inputCol=\"features\", outputCol=\"std_features\",\n                        withStd=True, withMean=False)                                            # Normalizing the vectors\nstages += [scaler]\npipeline = Pipeline(stages=stages)\npipelineModel = pipeline.fit(data)\ndataset = pipelineModel.transform(data)\n#data_vectors = dataset.select(dataset['features'])\n#data_vectors.show(truncate = False)\n#df2 = data_vectors.toPandas()\nget= [\"label\",\"features\", \"std_features\"]\ndata_features= dataset.select([column for column in dataset.columns if column in get])           # Selecting the relevant columns\ndata_features.printSchema()\n#data_features.show(2, truncate= False)\ndata_features.toPandas()"
        }, 
        {
            "metadata": {}, 
            "cell_type": "markdown", 
            "source": "We will have 2 sets of features in order to compare with the models, we have PCA features 1 which incorporate 18 features and PCA features 2 which incorporate 20 features. These features has been selected  using cumulative variance explained before"
        }, 
        {
            "metadata": {
                "collapsed": false
            }, 
            "cell_type": "code", 
            "outputs": [], 
            "execution_count": 9, 
            "source": "from pyspark.ml.feature import PCA\npca_1 = PCA(k=18, inputCol=\"std_features\", outputCol=\"pcaFeatures1\")\npca_2 = PCA(k=20, inputCol=\"std_features\", outputCol=\"pcaFeatures2\")\nmodel_1 = pca_1.fit(data_features).transform(data_features)\nmodel_2 = pca_2.fit(model_1).transform(model_1)\n#result= model_2.select(\"pcaFeatures2\")\n#result.show(truncate= False)"
        }, 
        {
            "metadata": {}, 
            "cell_type": "markdown", 
            "source": "## Unbalanced Dataset\nWe will see number of No for attrition in the dataset is at least 5 times number of yes'es. We can put the two sample types on the same footing using stratified sampling. The DataFrames sampleBy() function does this when provided with fractions of each sample type to be returned."
        }, 
        {
            "metadata": {
                "collapsed": false
            }, 
            "cell_type": "code", 
            "outputs": [
                {
                    "metadata": {}, 
                    "output_type": "execute_result", 
                    "execution_count": 10, 
                    "data": {
                        "text/html": "<div>\n<table border=\"1\" class=\"dataframe\">\n  <thead>\n    <tr style=\"text-align: right;\">\n      <th></th>\n      <th>label</th>\n      <th>count</th>\n    </tr>\n  </thead>\n  <tbody>\n    <tr>\n      <th>0</th>\n      <td>0</td>\n      <td>1233</td>\n    </tr>\n    <tr>\n      <th>1</th>\n      <td>1</td>\n      <td>237</td>\n    </tr>\n  </tbody>\n</table>\n</div>", 
                        "text/plain": "   label  count\n0      0   1233\n1      1    237"
                    }
                }
            ], 
            "execution_count": 10, 
            "source": "model_2.groupby('label').count().toPandas()"
        }, 
        {
            "metadata": {}, 
            "cell_type": "markdown", 
            "source": "Here we're keeping all instances of the Attrition=\"Yes\" class which is denoted by Label= 1, but downsampling the Churn=False class to a fraction of 237/1233."
        }, 
        {
            "metadata": {
                "collapsed": false
            }, 
            "cell_type": "code", 
            "outputs": [
                {
                    "metadata": {}, 
                    "output_type": "execute_result", 
                    "execution_count": 11, 
                    "data": {
                        "text/html": "<div>\n<table border=\"1\" class=\"dataframe\">\n  <thead>\n    <tr style=\"text-align: right;\">\n      <th></th>\n      <th>label</th>\n      <th>count</th>\n    </tr>\n  </thead>\n  <tbody>\n    <tr>\n      <th>0</th>\n      <td>0</td>\n      <td>218</td>\n    </tr>\n    <tr>\n      <th>1</th>\n      <td>1</td>\n      <td>237</td>\n    </tr>\n  </tbody>\n</table>\n</div>", 
                        "text/plain": "   label  count\n0      0    218\n1      1    237"
                    }
                }
            ], 
            "execution_count": 11, 
            "source": "stratified_model2 = model_2.sampleBy('label', fractions={0: 237./1233, 1: 1.0}).cache()\nstratified_model2.groupby('label').count().toPandas()"
        }, 
        {
            "metadata": {}, 
            "cell_type": "markdown", 
            "source": "# Decision Tree classifier"
        }, 
        {
            "metadata": {
                "collapsed": false
            }, 
            "cell_type": "code", 
            "outputs": [], 
            "execution_count": 36, 
            "source": "from pyspark.ml.classification import DecisionTreeClassifier\n(trainingData1, testData1) = stratified_model2.randomSplit([0.8, 0.2], seed=100)\ndt = DecisionTreeClassifier(labelCol=\"label\", featuresCol=\"pcaFeatures1\", maxDepth=10)\ndtModel = dt.fit(trainingData1)\npredictions = dtModel.transform(testData1)\n#print(dtModel.toDebugString)"
        }, 
        {
            "metadata": {
                "collapsed": false
            }, 
            "cell_type": "code", 
            "outputs": [
                {
                    "name": "stdout", 
                    "output_type": "stream", 
                    "text": "Test Error = 0.421869\nTest Accuracy = 0.578131\n"
                }
            ], 
            "execution_count": 18, 
            "source": "from pyspark.ml.evaluation import MulticlassClassificationEvaluator\nfrom pyspark.mllib.evaluation import MulticlassMetrics\nevaluator = MulticlassClassificationEvaluator(\n    labelCol=\"label\", predictionCol=\"prediction\", metricName=\"f1\") ## with f1\naccuracy = evaluator.evaluate(predictions)\nprint (\"Test Error = %g\" % (1.0 - accuracy))\nprint (\"Test Accuracy = %g\" % ( accuracy))"
        }, 
        {
            "metadata": {
                "collapsed": false
            }, 
            "cell_type": "code", 
            "outputs": [
                {
                    "name": "stdout", 
                    "output_type": "stream", 
                    "text": "Test Error = 0.401718\nTest Accuracy = 0.598282\n"
                }
            ], 
            "execution_count": 24, 
            "source": "dt2 = DecisionTreeClassifier(labelCol=\"label\", featuresCol=\"pcaFeatures2\", maxDepth=10)\ndt2Model = dt2.fit(trainingData1)\npredictions_2 = dt2Model.transform(testData1)\nevaluator = MulticlassClassificationEvaluator(\n    labelCol=\"label\", predictionCol=\"prediction\", metricName=\"f1\") ## with accuracy\naccuracy = evaluator.evaluate(predictions_2)\nprint (\"Test Error = %g\" % (1.0 - accuracy))\nprint (\"Test Accuracy = %g\" % ( accuracy))"
        }, 
        {
            "metadata": {}, 
            "cell_type": "markdown", 
            "source": "Hence PCA with number of features= 20 have slightly better result than n=18. Let us tune the decision tree to find the best decision tree for this data"
        }, 
        {
            "metadata": {}, 
            "cell_type": "markdown", 
            "source": "### Tuning Decision Tree\nWe would like to determine which parameter values of the decision tree produce the best model.This task of model selection is done using K fold cross validation techniques where the data is randomly split into k partitions. Each partition is used once as the testing data set, while the rest are used for training. Models are then generated using the training sets and evaluated with the testing sets, resulting in k model performance measurements. The average of the performance scores is often taken to be the overall score of the model, given its build parameters.\nThe cross validator will use the ParamGridBuilder to iterate through the maxDepth parameter of the decision tree and evaluate the models using the F1-score, repeating 4 times per parameter value for reliable results."
        }, 
        {
            "metadata": {
                "collapsed": false
            }, 
            "cell_type": "code", 
            "outputs": [
                {
                    "name": "stdout", 
                    "output_type": "stream", 
                    "text": "DecisionTreeClassificationModel (uid=DecisionTreeClassifier_4dcda22412b81ee95081) of depth 4 with 25 nodes\n"
                }
            ], 
            "execution_count": 28, 
            "source": "from pyspark.ml.classification import DecisionTreeClassifier\nfrom pyspark.ml.tuning import CrossValidator, ParamGridBuilder\nfrom pyspark.ml.evaluation import MulticlassClassificationEvaluator\n#Train a DecisionTree model\ndTree = DecisionTreeClassifier(labelCol='label', featuresCol='pcaFeatures2')\n# Search through decision tree's maxDepth parameter for best model\nparamGrid = ParamGridBuilder().addGrid(dTree.maxDepth, [2,3,4,5,6,7,8,9,10]).build()\n# Set F-1 score as evaluation metric for best model selection\nevaluator = MulticlassClassificationEvaluator(labelCol='label',\n                                              predictionCol='prediction', metricName='f1')\n# Set up 3-fold cross validation\ncrossval = CrossValidator(estimator=dTree,\n                          estimatorParamMaps=paramGrid,\n                          evaluator=evaluator,\n                          numFolds=4)\nCV_model = crossval.fit(trainingData1)\n\n# Fetch best model\ntree_model = CV_model.bestModel\nprint tree_model"
        }, 
        {
            "metadata": {}, 
            "cell_type": "markdown", 
            "source": "We find that the best tree model produced using the cross-validation process is one with a depth of 4 with 25 nodes. The decision trees with higher depth will result into overfitting of the data"
        }, 
        {
            "metadata": {
                "collapsed": false
            }, 
            "cell_type": "code", 
            "outputs": [
                {
                    "name": "stdout", 
                    "output_type": "stream", 
                    "text": "Test Error = 0.435426\nTest Accuracy = 0.564574\n"
                }
            ], 
            "execution_count": 37, 
            "source": "dt3 = DecisionTreeClassifier(labelCol=\"label\", featuresCol=\"pcaFeatures2\", maxDepth=4)\ndt3Model = dt3.fit(trainingData1)\npredictions_5 = dt3Model.transform(testData1)\nevaluator = MulticlassClassificationEvaluator(\n    labelCol=\"label\", predictionCol=\"prediction\", metricName=\"f1\") ## with accuracy\naccuracy = evaluator.evaluate(predictions_5)\nprint (\"Test Error = %g\" % (1.0 - accuracy))\nprint (\"Test Accuracy = %g\" % ( accuracy))"
        }, 
        {
            "metadata": {
                "collapsed": false
            }, 
            "cell_type": "code", 
            "outputs": [
                {
                    "name": "stdout", 
                    "output_type": "stream", 
                    "text": "DecisionTreeClassificationModel (uid=DecisionTreeClassifier_4412bea0a7d90440babe) of depth 4 with 25 nodes\n  If (feature 1 <= -2.6806434183396624)\n   If (feature 14 <= 3.5436710252888726)\n    If (feature 17 <= -3.937451955827704)\n     If (feature 7 <= 3.6794174677839697)\n      Predict: 0.0\n     Else (feature 7 > 3.6794174677839697)\n      Predict: 1.0\n    Else (feature 17 > -3.937451955827704)\n     If (feature 6 <= 1.6726962499249938)\n      Predict: 1.0\n     Else (feature 6 > 1.6726962499249938)\n      Predict: 0.0\n   Else (feature 14 > 3.5436710252888726)\n    Predict: 0.0\n  Else (feature 1 > -2.6806434183396624)\n   If (feature 14 <= 1.6583948086028861)\n    If (feature 11 <= 2.3894973151451433)\n     If (feature 4 <= -6.799782927081132)\n      Predict: 1.0\n     Else (feature 4 > -6.799782927081132)\n      Predict: 0.0\n    Else (feature 11 > 2.3894973151451433)\n     If (feature 12 <= -0.5452805128672591)\n      Predict: 0.0\n     Else (feature 12 > -0.5452805128672591)\n      Predict: 1.0\n   Else (feature 14 > 1.6583948086028861)\n    If (feature 18 <= -1.3574264344336802)\n     If (feature 19 <= 3.870823307885767)\n      Predict: 1.0\n     Else (feature 19 > 3.870823307885767)\n      Predict: 0.0\n    Else (feature 18 > -1.3574264344336802)\n     If (feature 19 <= 5.007397609691384)\n      Predict: 1.0\n     Else (feature 19 > 5.007397609691384)\n      Predict: 1.0\n\n"
                }
            ], 
            "execution_count": 38, 
            "source": "print(dt3Model.toDebugString)"
        }, 
        {
            "metadata": {}, 
            "cell_type": "markdown", 
            "source": "Accuracy is lower than the decision tree of depth 10; but this decision tree makes sure that the model is not overfitted to the data. Since the accuracy is below 60% we will leave all the classifiers which are weak learners. In other words we need a group of decision trees which ensemble together to give us a better accuracy scores"
        }, 
        {
            "metadata": {}, 
            "cell_type": "markdown", 
            "source": "## Random Forest Classifier"
        }, 
        {
            "metadata": {
                "collapsed": false
            }, 
            "cell_type": "code", 
            "outputs": [
                {
                    "name": "stdout", 
                    "output_type": "stream", 
                    "text": "Test Accuracy = 0.701031\nTest Error = 0.298969\n"
                }
            ], 
            "execution_count": 15, 
            "source": "from pyspark.ml.classification import RandomForestClassifier\n# Train a RandomForest model.\nrf_1 = RandomForestClassifier(labelCol=\"label\", featuresCol=\"pcaFeatures1\", numTrees=10)\nmodel = rf_1.fit(trainingData1)\n# Make predictions.\npredictions_3 = model.transform(testData1)\nevaluator = MulticlassClassificationEvaluator(\n    labelCol=\"label\", predictionCol=\"prediction\", metricName=\"accuracy\")\naccuracy = evaluator.evaluate(predictions_3)\nprint (\"Test Accuracy = %g\" % ( accuracy))\nprint (\"Test Error = %g\" % (1.0 - accuracy))"
        }, 
        {
            "metadata": {}, 
            "cell_type": "markdown", 
            "source": "we  straightaway get better accuracy score of 70 % which is at least 12% higher than the standalone decision tree which validates that ensemble methods are mandatory for this dataset to predict the attrition of an employee"
        }, 
        {
            "metadata": {
                "collapsed": false
            }, 
            "cell_type": "code", 
            "outputs": [
                {
                    "name": "stdout", 
                    "output_type": "stream", 
                    "text": "Test Accuracy = 0.659794\nTest Error = 0.340206\n"
                }
            ], 
            "execution_count": 16, 
            "source": "# Train a RandomForest model.\nrf_2 = RandomForestClassifier(labelCol=\"label\", featuresCol=\"pcaFeatures2\", numTrees=10)\nmodel_2 = rf_2.fit(trainingData1)\n# Make predictions.\npredictions_4 = model_2.transform(testData1)\nevaluator = MulticlassClassificationEvaluator(\n    labelCol=\"label\", predictionCol=\"prediction\", metricName=\"accuracy\")\naccuracy = evaluator.evaluate(predictions_4)\nprint (\"Test Accuracy = %g\" % ( accuracy))\nprint (\"Test Error = %g\" % (1.0 - accuracy))"
        }, 
        {
            "metadata": {}, 
            "cell_type": "markdown", 
            "source": "Here we see that PCA features 1 produce better accuracy score than PCA features 2 which is inverse of what we find during decision tree. This means the decision tree with parameters that explans 85% of the variance is better than the decision tree which explains 90% of the variance. This also means the  pricipal component features which shows less than 3% (var_ exp) of explained variance can be excluded from the decision tree model; if added bring down the accuracy score\n"
        }, 
        {
            "metadata": {}, 
            "cell_type": "markdown", 
            "source": "## Tuning decision tree"
        }, 
        {
            "metadata": {
                "collapsed": false
            }, 
            "cell_type": "code", 
            "outputs": [
                {
                    "name": "stdout", 
                    "output_type": "stream", 
                    "text": "RandomForestClassificationModel (uid=rfc_e60c5cc62f78) with 9 trees\n"
                }
            ], 
            "execution_count": 49, 
            "source": "from pyspark.ml.classification import RandomForestClassifier\nfrom pyspark.ml.tuning import CrossValidator, ParamGridBuilder\nfrom pyspark.ml.evaluation import MulticlassClassificationEvaluator\n#Train a DecisionTree model\nrf_10 = RandomForestClassifier(labelCol='label', featuresCol='pcaFeatures1')\n# Search through decision tree's maxDepth parameter for best model\nparamGrid = ParamGridBuilder().addGrid(rf_10.numTrees, [2,3,4,5,6,7,8,9,10,11,12]).build()\n# Set F-1 score as evaluation metric for best model selection\nevaluator = MulticlassClassificationEvaluator(labelCol='label',\n                                              predictionCol='prediction', metricName='f1')\n# Set up 3-fold cross validation\ncrossval = CrossValidator(estimator=rf_10,\n                          estimatorParamMaps=paramGrid,\n                          evaluator=evaluator,\n                          numFolds=4)\nCV_model = crossval.fit(trainingData1)\n\n# Fetch best model\nrf_model = CV_model.bestModel\nprint rf_model"
        }, 
        {
            "metadata": {}, 
            "cell_type": "markdown", 
            "source": "Here we see that the randomforest with 9 trees gives us the best model. Any Larger number of trees will make the model overfitted. This means our previous model with 10 trees is too complex and overfitted. If we lower down the number of trees our accuracy will reduce but overfitness will not be there."
        }, 
        {
            "metadata": {
                "collapsed": false
            }, 
            "cell_type": "code", 
            "outputs": [
                {
                    "name": "stdout", 
                    "output_type": "stream", 
                    "text": "Test Accuracy = 0.649485\nTest Error = 0.350515\n"
                }
            ], 
            "execution_count": 33, 
            "source": "# Train a RandomForest model.\nrf_3 = RandomForestClassifier(labelCol=\"label\", featuresCol=\"pcaFeatures1\", numTrees=9)\nmodel_3 = rf_3.fit(trainingData1)\n# Make predictions.\npredictions_6 = model_3.transform(testData1)\nevaluator = MulticlassClassificationEvaluator(\n    labelCol=\"label\", predictionCol=\"prediction\", metricName=\"accuracy\")\naccuracy = evaluator.evaluate(predictions_6)\nprint (\"Test Accuracy = %g\" % ( accuracy))\nprint (\"Test Error = %g\" % (1.0 - accuracy))"
        }, 
        {
            "metadata": {}, 
            "cell_type": "markdown", 
            "source": "Let us try one more ensemble method"
        }, 
        {
            "metadata": {}, 
            "cell_type": "markdown", 
            "source": "## Gradient Boosted Classifier\n"
        }, 
        {
            "metadata": {
                "collapsed": false
            }, 
            "cell_type": "code", 
            "outputs": [
                {
                    "name": "stdout", 
                    "output_type": "stream", 
                    "text": "Test Error = 0.409091\nTest Accuracy = 0.590909\n"
                }
            ], 
            "execution_count": 45, 
            "source": "from pyspark.ml import Pipeline\nfrom pyspark.ml.classification import GBTClassifier\nfrom pyspark.ml.feature import StringIndexer, VectorIndexer\nfrom pyspark.ml.evaluation import MulticlassClassificationEvaluator\n(trainingData3, testData3) = stratified_model2.randomSplit([0.9, 0.1], seed=101)\ngbt = GBTClassifier(labelCol=\"label\", featuresCol=\"pcaFeatures1\", maxDepth=10)\ngbtModel = gbt.fit(trainingData3)\npredictions = gbtModel.transform(testData3)\nevaluator = MulticlassClassificationEvaluator(\n    labelCol=\"label\", predictionCol=\"prediction\", metricName=\"accuracy\")\naccuracy = evaluator.evaluate(predictions)\nprint(\"Test Error = %g\" % (1.0 - accuracy))\nprint (\"Test Accuracy = %g\" % ( accuracy))"
        }, 
        {
            "metadata": {
                "collapsed": false
            }, 
            "cell_type": "code", 
            "outputs": [
                {
                    "name": "stdout", 
                    "output_type": "stream", 
                    "text": "Test Error = 0.318182\nTest Accuracy = 0.681818\n"
                }
            ], 
            "execution_count": 46, 
            "source": "from pyspark.ml import Pipeline\nfrom pyspark.ml.classification import GBTClassifier\nfrom pyspark.ml.feature import StringIndexer, VectorIndexer\nfrom pyspark.ml.evaluation import MulticlassClassificationEvaluator\n(trainingData3, testData3) = stratified_model2.randomSplit([0.9, 0.1], seed=101)\ngbt_1 = GBTClassifier(labelCol=\"label\", featuresCol=\"pcaFeatures2\", maxDepth=10)\ngbtModel1 = gbt_1.fit(trainingData3)\npredictions = gbtModel1.transform(testData3)\nevaluator = MulticlassClassificationEvaluator(\n    labelCol=\"label\", predictionCol=\"prediction\", metricName=\"accuracy\")\naccuracy = evaluator.evaluate(predictions)\nprint(\"Test Error = %g\" % (1.0 - accuracy))\nprint (\"Test Accuracy = %g\" % ( accuracy))"
        }, 
        {
            "metadata": {}, 
            "cell_type": "markdown", 
            "source": "Straighaway we can see the result is similar as of decision tree, however the accuracy increment is very large by the addition of the  principal components 19 and 20 which expains the least amount of variance amongst all PC which is puzzling. I wish what will happen if i add all the principal component features to find it out."
        }, 
        {
            "metadata": {
                "collapsed": false
            }, 
            "cell_type": "code", 
            "outputs": [
                {
                    "name": "stdout", 
                    "output_type": "stream", 
                    "text": "GBTClassificationModel (uid=GBTClassifier_41d6b786fdb22064671f) with 20 trees\n"
                }
            ], 
            "execution_count": 50, 
            "source": "from pyspark.ml.classification import GBTClassifier\nfrom pyspark.ml.tuning import CrossValidator, ParamGridBuilder\nfrom pyspark.ml.evaluation import MulticlassClassificationEvaluator\n#Train a DecisionTree model\ngbt_10 = GBTClassifier(labelCol='label', featuresCol='pcaFeatures2')\n# Search through decision tree's maxDepth parameter for best model\nparamGrid = ParamGridBuilder().addGrid(gbt_10.maxDepth, [2,3,4,5,6,7,8,9,10]).build()\n# Set F-1 score as evaluation metric for best model selection\nevaluator = MulticlassClassificationEvaluator(labelCol='label',\n                                              predictionCol='prediction', metricName='f1')\n# Set up 3-fold cross validation\ncrossval = CrossValidator(estimator=gbt_10,\n                          estimatorParamMaps=paramGrid,\n                          evaluator=evaluator,\n                          numFolds=3)\nCV_model = crossval.fit(trainingData3)\n\n# Fetch best model\ngbt_model = CV_model.bestModel\nprint gbt_model"
        }, 
        {
            "metadata": {}, 
            "cell_type": "markdown", 
            "source": "# Summary\n"
        }, 
        {
            "metadata": {}, 
            "cell_type": "markdown", 
            "source": "##### We have constructed a very simple pipeline of predicting employee attrition, from some basic Exploratory Data Analysis to feature engineering as well as implementing three learning models in the form of a Decision Tree, Random Forest and a Gradient Boosting classifier. We observe Random forest and gradient boosting  are better than standalone decision tree.\n##### We observe assuming pricipal components are in synchronization with the features columns which they are (because the eigenvalues are calculated from them itself) We can say Age has the most effect on attrition rate followed by Dailyrate, and Distance From Home. On the same line we can also say YearsAtCompany, YearsInCurrentRole, YearsSinceLastPromotion, YearsWithCurrManager have the least amount of effect on employee attrition which was not expected but collaborated by high correlations amongst them\n\n"
        }
    ], 
    "nbformat_minor": 0, 
    "nbformat": 4
}